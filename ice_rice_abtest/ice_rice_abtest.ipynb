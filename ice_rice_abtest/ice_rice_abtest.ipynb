{
 "cells": [
  {
   "cell_type": "markdown",
   "metadata": {},
   "source": [
    "# Принятие решений в бизнесе на основе данных. Приоритезация гипотез. Анализ А/Б теста."
   ]
  },
  {
   "cell_type": "markdown",
   "metadata": {},
   "source": [
    "<div style=\"border:solid black 1px; padding: 20px\">\n",
    "    \n",
    "***Задача:***\n",
    "- Приоритезация гипотез увеличения выручки в интернет-магазине по фреймворкам ICE и RICE\n",
    "- Анализ результатов А/Б теста\n",
    "\n",
    "***Входные данные:***\n",
    "- список гипотез\n",
    "- информация о заказах пользователей\n",
    "- информация о посещениях пользователей интернет-магазина</div>"
   ]
  },
  {
   "cell_type": "markdown",
   "metadata": {},
   "source": [
    "### Предобработка данных"
   ]
  },
  {
   "cell_type": "markdown",
   "metadata": {},
   "source": [
    "#### Загрузим необходимые для работы библиотеки и данные для анализа"
   ]
  },
  {
   "cell_type": "code",
   "execution_count": 1,
   "metadata": {},
   "outputs": [],
   "source": [
    "import pandas as pd\n",
    "import numpy as np\n",
    "import matplotlib.pyplot as plt\n",
    "from scipy import stats\n",
    "import datetime as dt"
   ]
  },
  {
   "cell_type": "code",
   "execution_count": 2,
   "metadata": {},
   "outputs": [],
   "source": [
    "try:\n",
    "    hypothesis, orders, visitors = (\n",
    "        pd.read_csv('/datasets/hypothesis.csv'),\n",
    "        pd.read_csv('/datasets/orders.csv'),\n",
    "        pd.read_csv('/datasets/visitors.csv')\n",
    "    )\n",
    "\n",
    "\n",
    "except:\n",
    "    hypothesis, orders, visitors = (\n",
    "        pd.read_csv('hypothesis.csv'),\n",
    "        pd.read_csv('orders.csv'),\n",
    "        pd.read_csv('visitors.csv')\n",
    "    )"
   ]
  },
  {
   "cell_type": "markdown",
   "metadata": {},
   "source": [
    "#### Проведем проверку датасетов на наличие пропусков и соответствие типам данных"
   ]
  },
  {
   "cell_type": "code",
   "execution_count": 3,
   "metadata": {},
   "outputs": [
    {
     "data": {
      "text/html": [
       "<div>\n",
       "<style scoped>\n",
       "    .dataframe tbody tr th:only-of-type {\n",
       "        vertical-align: middle;\n",
       "    }\n",
       "\n",
       "    .dataframe tbody tr th {\n",
       "        vertical-align: top;\n",
       "    }\n",
       "\n",
       "    .dataframe thead th {\n",
       "        text-align: right;\n",
       "    }\n",
       "</style>\n",
       "<table border=\"1\" class=\"dataframe\">\n",
       "  <thead>\n",
       "    <tr style=\"text-align: right;\">\n",
       "      <th></th>\n",
       "      <th>Hypothesis</th>\n",
       "      <th>Reach</th>\n",
       "      <th>Impact</th>\n",
       "      <th>Confidence</th>\n",
       "      <th>Efforts</th>\n",
       "    </tr>\n",
       "  </thead>\n",
       "  <tbody>\n",
       "    <tr>\n",
       "      <th>0</th>\n",
       "      <td>Добавить два новых канала привлечения трафика,...</td>\n",
       "      <td>3</td>\n",
       "      <td>10</td>\n",
       "      <td>8</td>\n",
       "      <td>6</td>\n",
       "    </tr>\n",
       "    <tr>\n",
       "      <th>1</th>\n",
       "      <td>Запустить собственную службу доставки, что сок...</td>\n",
       "      <td>2</td>\n",
       "      <td>5</td>\n",
       "      <td>4</td>\n",
       "      <td>10</td>\n",
       "    </tr>\n",
       "    <tr>\n",
       "      <th>2</th>\n",
       "      <td>Добавить блоки рекомендаций товаров на сайт ин...</td>\n",
       "      <td>8</td>\n",
       "      <td>3</td>\n",
       "      <td>7</td>\n",
       "      <td>3</td>\n",
       "    </tr>\n",
       "    <tr>\n",
       "      <th>3</th>\n",
       "      <td>Изменить структура категорий, что увеличит кон...</td>\n",
       "      <td>8</td>\n",
       "      <td>3</td>\n",
       "      <td>3</td>\n",
       "      <td>8</td>\n",
       "    </tr>\n",
       "    <tr>\n",
       "      <th>4</th>\n",
       "      <td>Изменить цвет фона главной страницы, чтобы уве...</td>\n",
       "      <td>3</td>\n",
       "      <td>1</td>\n",
       "      <td>1</td>\n",
       "      <td>1</td>\n",
       "    </tr>\n",
       "  </tbody>\n",
       "</table>\n",
       "</div>"
      ],
      "text/plain": [
       "                                          Hypothesis  Reach  Impact  \\\n",
       "0  Добавить два новых канала привлечения трафика,...      3      10   \n",
       "1  Запустить собственную службу доставки, что сок...      2       5   \n",
       "2  Добавить блоки рекомендаций товаров на сайт ин...      8       3   \n",
       "3  Изменить структура категорий, что увеличит кон...      8       3   \n",
       "4  Изменить цвет фона главной страницы, чтобы уве...      3       1   \n",
       "\n",
       "   Confidence  Efforts  \n",
       "0           8        6  \n",
       "1           4       10  \n",
       "2           7        3  \n",
       "3           3        8  \n",
       "4           1        1  "
      ]
     },
     "execution_count": 3,
     "metadata": {},
     "output_type": "execute_result"
    }
   ],
   "source": [
    "hypothesis.head()"
   ]
  },
  {
   "cell_type": "code",
   "execution_count": 4,
   "metadata": {},
   "outputs": [
    {
     "name": "stdout",
     "output_type": "stream",
     "text": [
      "<class 'pandas.core.frame.DataFrame'>\n",
      "RangeIndex: 9 entries, 0 to 8\n",
      "Data columns (total 5 columns):\n",
      " #   Column      Non-Null Count  Dtype \n",
      "---  ------      --------------  ----- \n",
      " 0   Hypothesis  9 non-null      object\n",
      " 1   Reach       9 non-null      int64 \n",
      " 2   Impact      9 non-null      int64 \n",
      " 3   Confidence  9 non-null      int64 \n",
      " 4   Efforts     9 non-null      int64 \n",
      "dtypes: int64(4), object(1)\n",
      "memory usage: 488.0+ bytes\n"
     ]
    }
   ],
   "source": [
    "hypothesis.info()"
   ]
  },
  {
   "cell_type": "code",
   "execution_count": 5,
   "metadata": {},
   "outputs": [
    {
     "data": {
      "text/html": [
       "<div>\n",
       "<style scoped>\n",
       "    .dataframe tbody tr th:only-of-type {\n",
       "        vertical-align: middle;\n",
       "    }\n",
       "\n",
       "    .dataframe tbody tr th {\n",
       "        vertical-align: top;\n",
       "    }\n",
       "\n",
       "    .dataframe thead th {\n",
       "        text-align: right;\n",
       "    }\n",
       "</style>\n",
       "<table border=\"1\" class=\"dataframe\">\n",
       "  <thead>\n",
       "    <tr style=\"text-align: right;\">\n",
       "      <th></th>\n",
       "      <th>transactionId</th>\n",
       "      <th>visitorId</th>\n",
       "      <th>date</th>\n",
       "      <th>revenue</th>\n",
       "      <th>group</th>\n",
       "    </tr>\n",
       "  </thead>\n",
       "  <tbody>\n",
       "    <tr>\n",
       "      <th>0</th>\n",
       "      <td>3667963787</td>\n",
       "      <td>3312258926</td>\n",
       "      <td>2019-08-15</td>\n",
       "      <td>1650</td>\n",
       "      <td>B</td>\n",
       "    </tr>\n",
       "    <tr>\n",
       "      <th>1</th>\n",
       "      <td>2804400009</td>\n",
       "      <td>3642806036</td>\n",
       "      <td>2019-08-15</td>\n",
       "      <td>730</td>\n",
       "      <td>B</td>\n",
       "    </tr>\n",
       "    <tr>\n",
       "      <th>2</th>\n",
       "      <td>2961555356</td>\n",
       "      <td>4069496402</td>\n",
       "      <td>2019-08-15</td>\n",
       "      <td>400</td>\n",
       "      <td>A</td>\n",
       "    </tr>\n",
       "    <tr>\n",
       "      <th>3</th>\n",
       "      <td>3797467345</td>\n",
       "      <td>1196621759</td>\n",
       "      <td>2019-08-15</td>\n",
       "      <td>9759</td>\n",
       "      <td>B</td>\n",
       "    </tr>\n",
       "    <tr>\n",
       "      <th>4</th>\n",
       "      <td>2282983706</td>\n",
       "      <td>2322279887</td>\n",
       "      <td>2019-08-15</td>\n",
       "      <td>2308</td>\n",
       "      <td>B</td>\n",
       "    </tr>\n",
       "  </tbody>\n",
       "</table>\n",
       "</div>"
      ],
      "text/plain": [
       "   transactionId   visitorId        date  revenue group\n",
       "0     3667963787  3312258926  2019-08-15     1650     B\n",
       "1     2804400009  3642806036  2019-08-15      730     B\n",
       "2     2961555356  4069496402  2019-08-15      400     A\n",
       "3     3797467345  1196621759  2019-08-15     9759     B\n",
       "4     2282983706  2322279887  2019-08-15     2308     B"
      ]
     },
     "execution_count": 5,
     "metadata": {},
     "output_type": "execute_result"
    }
   ],
   "source": [
    "orders.head()"
   ]
  },
  {
   "cell_type": "code",
   "execution_count": 6,
   "metadata": {},
   "outputs": [
    {
     "name": "stdout",
     "output_type": "stream",
     "text": [
      "<class 'pandas.core.frame.DataFrame'>\n",
      "RangeIndex: 1197 entries, 0 to 1196\n",
      "Data columns (total 5 columns):\n",
      " #   Column         Non-Null Count  Dtype \n",
      "---  ------         --------------  ----- \n",
      " 0   transactionId  1197 non-null   int64 \n",
      " 1   visitorId      1197 non-null   int64 \n",
      " 2   date           1197 non-null   object\n",
      " 3   revenue        1197 non-null   int64 \n",
      " 4   group          1197 non-null   object\n",
      "dtypes: int64(3), object(2)\n",
      "memory usage: 46.9+ KB\n"
     ]
    }
   ],
   "source": [
    "orders.info()"
   ]
  },
  {
   "cell_type": "markdown",
   "metadata": {},
   "source": [
    "***Преобразуем тип данных столбца date в формат даты***"
   ]
  },
  {
   "cell_type": "code",
   "execution_count": 7,
   "metadata": {},
   "outputs": [],
   "source": [
    "orders['date'] = pd.to_datetime(orders['date'])"
   ]
  },
  {
   "cell_type": "markdown",
   "metadata": {},
   "source": [
    "***Проверим изменения***"
   ]
  },
  {
   "cell_type": "code",
   "execution_count": 8,
   "metadata": {},
   "outputs": [
    {
     "data": {
      "text/plain": [
       "transactionId             int64\n",
       "visitorId                 int64\n",
       "date             datetime64[ns]\n",
       "revenue                   int64\n",
       "group                    object\n",
       "dtype: object"
      ]
     },
     "execution_count": 8,
     "metadata": {},
     "output_type": "execute_result"
    }
   ],
   "source": [
    "orders.dtypes"
   ]
  },
  {
   "cell_type": "code",
   "execution_count": 9,
   "metadata": {},
   "outputs": [
    {
     "data": {
      "text/html": [
       "<div>\n",
       "<style scoped>\n",
       "    .dataframe tbody tr th:only-of-type {\n",
       "        vertical-align: middle;\n",
       "    }\n",
       "\n",
       "    .dataframe tbody tr th {\n",
       "        vertical-align: top;\n",
       "    }\n",
       "\n",
       "    .dataframe thead th {\n",
       "        text-align: right;\n",
       "    }\n",
       "</style>\n",
       "<table border=\"1\" class=\"dataframe\">\n",
       "  <thead>\n",
       "    <tr style=\"text-align: right;\">\n",
       "      <th></th>\n",
       "      <th>date</th>\n",
       "      <th>group</th>\n",
       "      <th>visitors</th>\n",
       "    </tr>\n",
       "  </thead>\n",
       "  <tbody>\n",
       "    <tr>\n",
       "      <th>0</th>\n",
       "      <td>2019-08-01</td>\n",
       "      <td>A</td>\n",
       "      <td>719</td>\n",
       "    </tr>\n",
       "    <tr>\n",
       "      <th>1</th>\n",
       "      <td>2019-08-02</td>\n",
       "      <td>A</td>\n",
       "      <td>619</td>\n",
       "    </tr>\n",
       "    <tr>\n",
       "      <th>2</th>\n",
       "      <td>2019-08-03</td>\n",
       "      <td>A</td>\n",
       "      <td>507</td>\n",
       "    </tr>\n",
       "    <tr>\n",
       "      <th>3</th>\n",
       "      <td>2019-08-04</td>\n",
       "      <td>A</td>\n",
       "      <td>717</td>\n",
       "    </tr>\n",
       "    <tr>\n",
       "      <th>4</th>\n",
       "      <td>2019-08-05</td>\n",
       "      <td>A</td>\n",
       "      <td>756</td>\n",
       "    </tr>\n",
       "  </tbody>\n",
       "</table>\n",
       "</div>"
      ],
      "text/plain": [
       "         date group  visitors\n",
       "0  2019-08-01     A       719\n",
       "1  2019-08-02     A       619\n",
       "2  2019-08-03     A       507\n",
       "3  2019-08-04     A       717\n",
       "4  2019-08-05     A       756"
      ]
     },
     "execution_count": 9,
     "metadata": {},
     "output_type": "execute_result"
    }
   ],
   "source": [
    "visitors.head()"
   ]
  },
  {
   "cell_type": "code",
   "execution_count": 10,
   "metadata": {},
   "outputs": [
    {
     "name": "stdout",
     "output_type": "stream",
     "text": [
      "<class 'pandas.core.frame.DataFrame'>\n",
      "RangeIndex: 62 entries, 0 to 61\n",
      "Data columns (total 3 columns):\n",
      " #   Column    Non-Null Count  Dtype \n",
      "---  ------    --------------  ----- \n",
      " 0   date      62 non-null     object\n",
      " 1   group     62 non-null     object\n",
      " 2   visitors  62 non-null     int64 \n",
      "dtypes: int64(1), object(2)\n",
      "memory usage: 1.6+ KB\n"
     ]
    }
   ],
   "source": [
    "visitors.info()"
   ]
  },
  {
   "cell_type": "markdown",
   "metadata": {},
   "source": [
    "***Преобразуем тип данных стобца date в формат даты***"
   ]
  },
  {
   "cell_type": "code",
   "execution_count": 11,
   "metadata": {},
   "outputs": [],
   "source": [
    "visitors['date'] = pd.to_datetime(visitors['date'])"
   ]
  },
  {
   "cell_type": "markdown",
   "metadata": {},
   "source": [
    "***Проверим изменения***"
   ]
  },
  {
   "cell_type": "code",
   "execution_count": 12,
   "metadata": {},
   "outputs": [
    {
     "data": {
      "text/plain": [
       "date        datetime64[ns]\n",
       "group               object\n",
       "visitors             int64\n",
       "dtype: object"
      ]
     },
     "execution_count": 12,
     "metadata": {},
     "output_type": "execute_result"
    }
   ],
   "source": [
    "visitors.dtypes"
   ]
  },
  {
   "cell_type": "markdown",
   "metadata": {},
   "source": [
    "***Проверим датафреймы на наличие дубликатов***"
   ]
  },
  {
   "cell_type": "code",
   "execution_count": 13,
   "metadata": {},
   "outputs": [
    {
     "data": {
      "text/plain": [
       "0"
      ]
     },
     "metadata": {},
     "output_type": "display_data"
    },
    {
     "data": {
      "text/plain": [
       "0"
      ]
     },
     "metadata": {},
     "output_type": "display_data"
    },
    {
     "data": {
      "text/plain": [
       "0"
      ]
     },
     "execution_count": 13,
     "metadata": {},
     "output_type": "execute_result"
    }
   ],
   "source": [
    "display(hypothesis.duplicated().sum())\n",
    "display(visitors.duplicated().sum())\n",
    "orders.duplicated().sum()"
   ]
  },
  {
   "cell_type": "markdown",
   "metadata": {},
   "source": [
    "<div style=\"border:solid green 2px; padding: 20px\">\n",
    "Мы провели проверку датафреймов, преобразовали тип данных, пропусков и дубликатов не обнаружено, можно приступать к исследованию и анализу</div>"
   ]
  },
  {
   "cell_type": "code",
   "execution_count": 15,
   "metadata": {},
   "outputs": [
    {
     "data": {
      "text/html": [
       "<div>\n",
       "<style scoped>\n",
       "    .dataframe tbody tr th:only-of-type {\n",
       "        vertical-align: middle;\n",
       "    }\n",
       "\n",
       "    .dataframe tbody tr th {\n",
       "        vertical-align: top;\n",
       "    }\n",
       "\n",
       "    .dataframe thead th {\n",
       "        text-align: right;\n",
       "    }\n",
       "</style>\n",
       "<table border=\"1\" class=\"dataframe\">\n",
       "  <thead>\n",
       "    <tr style=\"text-align: right;\">\n",
       "      <th></th>\n",
       "      <th>group</th>\n",
       "    </tr>\n",
       "    <tr>\n",
       "      <th>visitorId</th>\n",
       "      <th></th>\n",
       "    </tr>\n",
       "  </thead>\n",
       "  <tbody>\n",
       "    <tr>\n",
       "      <th>5114589</th>\n",
       "      <td>1</td>\n",
       "    </tr>\n",
       "    <tr>\n",
       "      <th>6958315</th>\n",
       "      <td>1</td>\n",
       "    </tr>\n",
       "    <tr>\n",
       "      <th>8300375</th>\n",
       "      <td>2</td>\n",
       "    </tr>\n",
       "    <tr>\n",
       "      <th>11685486</th>\n",
       "      <td>1</td>\n",
       "    </tr>\n",
       "    <tr>\n",
       "      <th>39475350</th>\n",
       "      <td>1</td>\n",
       "    </tr>\n",
       "    <tr>\n",
       "      <th>...</th>\n",
       "      <td>...</td>\n",
       "    </tr>\n",
       "    <tr>\n",
       "      <th>4266935830</th>\n",
       "      <td>2</td>\n",
       "    </tr>\n",
       "    <tr>\n",
       "      <th>4278982564</th>\n",
       "      <td>1</td>\n",
       "    </tr>\n",
       "    <tr>\n",
       "      <th>4279090005</th>\n",
       "      <td>1</td>\n",
       "    </tr>\n",
       "    <tr>\n",
       "      <th>4281247801</th>\n",
       "      <td>1</td>\n",
       "    </tr>\n",
       "    <tr>\n",
       "      <th>4283872382</th>\n",
       "      <td>1</td>\n",
       "    </tr>\n",
       "  </tbody>\n",
       "</table>\n",
       "<p>1031 rows × 1 columns</p>\n",
       "</div>"
      ],
      "text/plain": [
       "            group\n",
       "visitorId        \n",
       "5114589         1\n",
       "6958315         1\n",
       "8300375         2\n",
       "11685486        1\n",
       "39475350        1\n",
       "...           ...\n",
       "4266935830      2\n",
       "4278982564      1\n",
       "4279090005      1\n",
       "4281247801      1\n",
       "4283872382      1\n",
       "\n",
       "[1031 rows x 1 columns]"
      ]
     },
     "execution_count": 15,
     "metadata": {},
     "output_type": "execute_result"
    }
   ],
   "source": [
    "orders.groupby('visitorId').agg({'group':'nunique'})"
   ]
  },
  {
   "cell_type": "code",
   "execution_count": 16,
   "metadata": {},
   "outputs": [],
   "source": [
    "users = orders.groupby('visitorId').nunique()\n",
    "users_group = users['group']\n",
    "total = 0\n",
    "for i in users_group:\n",
    "    if i > 1:\n",
    "        total += 1"
   ]
  },
  {
   "cell_type": "code",
   "execution_count": 17,
   "metadata": {
    "scrolled": true
   },
   "outputs": [
    {
     "name": "stdout",
     "output_type": "stream",
     "text": [
      "Кол-во пользователей, состоящих в двух группах: 58\n",
      "Всего уникальных пользователей в тесте: 1031\n",
      "Доля пользователей, состоящих в двух группах к общему кол-ву пользователей: 5.63\n"
     ]
    }
   ],
   "source": [
    "print('Кол-во пользователей, состоящих в двух группах: {}'.format(total))\n",
    "print('Всего уникальных пользователей в тесте:', len(users))\n",
    "print('Доля пользователей, состоящих в двух группах к общему кол-ву пользователей: {:.2f}'.format(58/1031*100))"
   ]
  },
  {
   "cell_type": "markdown",
   "metadata": {},
   "source": [
    "***Посмотрим кол-во групп в orders и visitors***"
   ]
  },
  {
   "cell_type": "code",
   "execution_count": 18,
   "metadata": {},
   "outputs": [
    {
     "data": {
      "text/plain": [
       "array(['B', 'A'], dtype=object)"
      ]
     },
     "execution_count": 18,
     "metadata": {},
     "output_type": "execute_result"
    }
   ],
   "source": [
    "orders['group'].unique()"
   ]
  },
  {
   "cell_type": "code",
   "execution_count": 19,
   "metadata": {
    "scrolled": true
   },
   "outputs": [
    {
     "data": {
      "text/plain": [
       "array(['A', 'B'], dtype=object)"
      ]
     },
     "execution_count": 19,
     "metadata": {},
     "output_type": "execute_result"
    }
   ],
   "source": [
    "visitors['group'].unique()"
   ]
  },
  {
   "cell_type": "markdown",
   "metadata": {},
   "source": [
    "*Две группы: А, Б*"
   ]
  },
  {
   "cell_type": "markdown",
   "metadata": {},
   "source": [
    "***Проверим даты начала и окончания в датафреймах***"
   ]
  },
  {
   "cell_type": "code",
   "execution_count": 20,
   "metadata": {},
   "outputs": [
    {
     "data": {
      "text/plain": [
       "Timestamp('2019-08-01 00:00:00')"
      ]
     },
     "metadata": {},
     "output_type": "display_data"
    },
    {
     "data": {
      "text/plain": [
       "Timestamp('2019-08-31 00:00:00')"
      ]
     },
     "metadata": {},
     "output_type": "display_data"
    },
    {
     "data": {
      "text/plain": [
       "None"
      ]
     },
     "metadata": {},
     "output_type": "display_data"
    },
    {
     "data": {
      "text/plain": [
       "Timestamp('2019-08-01 00:00:00')"
      ]
     },
     "metadata": {},
     "output_type": "display_data"
    },
    {
     "data": {
      "text/plain": [
       "Timestamp('2019-08-31 00:00:00')"
      ]
     },
     "metadata": {},
     "output_type": "display_data"
    },
    {
     "data": {
      "text/plain": [
       "None"
      ]
     },
     "metadata": {},
     "output_type": "display_data"
    }
   ],
   "source": [
    "def dates(x):\n",
    "    display(x.date.min())\n",
    "    display(x.date.max())\n",
    "display(dates(orders))\n",
    "display(dates(visitors))"
   ]
  },
  {
   "cell_type": "markdown",
   "metadata": {},
   "source": [
    "*Все окей*"
   ]
  },
  {
   "cell_type": "markdown",
   "metadata": {},
   "source": [
    "***Посчитаем кол-во пользователей в каждой группе в таблице с заказами***"
   ]
  },
  {
   "cell_type": "code",
   "execution_count": 21,
   "metadata": {},
   "outputs": [
    {
     "data": {
      "text/html": [
       "<div>\n",
       "<style scoped>\n",
       "    .dataframe tbody tr th:only-of-type {\n",
       "        vertical-align: middle;\n",
       "    }\n",
       "\n",
       "    .dataframe tbody tr th {\n",
       "        vertical-align: top;\n",
       "    }\n",
       "\n",
       "    .dataframe thead th {\n",
       "        text-align: right;\n",
       "    }\n",
       "</style>\n",
       "<table border=\"1\" class=\"dataframe\">\n",
       "  <thead>\n",
       "    <tr style=\"text-align: right;\">\n",
       "      <th></th>\n",
       "      <th>visitorId</th>\n",
       "    </tr>\n",
       "    <tr>\n",
       "      <th>group</th>\n",
       "      <th></th>\n",
       "    </tr>\n",
       "  </thead>\n",
       "  <tbody>\n",
       "    <tr>\n",
       "      <th>A</th>\n",
       "      <td>503</td>\n",
       "    </tr>\n",
       "    <tr>\n",
       "      <th>B</th>\n",
       "      <td>586</td>\n",
       "    </tr>\n",
       "  </tbody>\n",
       "</table>\n",
       "</div>"
      ],
      "text/plain": [
       "       visitorId\n",
       "group           \n",
       "A            503\n",
       "B            586"
      ]
     },
     "execution_count": 21,
     "metadata": {},
     "output_type": "execute_result"
    }
   ],
   "source": [
    "orders.groupby('group').agg({'visitorId' : 'nunique'})"
   ]
  },
  {
   "cell_type": "markdown",
   "metadata": {},
   "source": [
    "*Видна разница 83 пользователя, ранее было выявлено кол-во пользователей состоящих в друх группах одновременно - 58*"
   ]
  },
  {
   "cell_type": "markdown",
   "metadata": {},
   "source": [
    "***Посмотрим на кол-во посещений для каждой группы***"
   ]
  },
  {
   "cell_type": "code",
   "execution_count": 22,
   "metadata": {},
   "outputs": [
    {
     "data": {
      "text/html": [
       "<div>\n",
       "<style scoped>\n",
       "    .dataframe tbody tr th:only-of-type {\n",
       "        vertical-align: middle;\n",
       "    }\n",
       "\n",
       "    .dataframe tbody tr th {\n",
       "        vertical-align: top;\n",
       "    }\n",
       "\n",
       "    .dataframe thead th {\n",
       "        text-align: right;\n",
       "    }\n",
       "</style>\n",
       "<table border=\"1\" class=\"dataframe\">\n",
       "  <thead>\n",
       "    <tr style=\"text-align: right;\">\n",
       "      <th></th>\n",
       "      <th>visitors</th>\n",
       "    </tr>\n",
       "    <tr>\n",
       "      <th>group</th>\n",
       "      <th></th>\n",
       "    </tr>\n",
       "  </thead>\n",
       "  <tbody>\n",
       "    <tr>\n",
       "      <th>A</th>\n",
       "      <td>18736</td>\n",
       "    </tr>\n",
       "    <tr>\n",
       "      <th>B</th>\n",
       "      <td>18916</td>\n",
       "    </tr>\n",
       "  </tbody>\n",
       "</table>\n",
       "</div>"
      ],
      "text/plain": [
       "       visitors\n",
       "group          \n",
       "A         18736\n",
       "B         18916"
      ]
     },
     "execution_count": 22,
     "metadata": {},
     "output_type": "execute_result"
    }
   ],
   "source": [
    "visitors.groupby('group').agg({'visitors':'sum'})"
   ]
  },
  {
   "cell_type": "markdown",
   "metadata": {},
   "source": [
    "*И здесь видна разница*"
   ]
  },
  {
   "cell_type": "markdown",
   "metadata": {},
   "source": [
    "***Посмотрим на статистические показатели числовых данных***"
   ]
  },
  {
   "cell_type": "code",
   "execution_count": 23,
   "metadata": {},
   "outputs": [
    {
     "data": {
      "text/plain": [
       "count    1.197000e+03\n",
       "mean     8.348006e+03\n",
       "std      3.919113e+04\n",
       "min      5.000000e+01\n",
       "25%      1.220000e+03\n",
       "50%      2.978000e+03\n",
       "75%      8.290000e+03\n",
       "max      1.294500e+06\n",
       "Name: revenue, dtype: float64"
      ]
     },
     "execution_count": 23,
     "metadata": {},
     "output_type": "execute_result"
    }
   ],
   "source": [
    "orders['revenue'].describe()"
   ]
  },
  {
   "cell_type": "code",
   "execution_count": 24,
   "metadata": {
    "scrolled": true
   },
   "outputs": [
    {
     "data": {
      "text/html": [
       "<div>\n",
       "<style scoped>\n",
       "    .dataframe tbody tr th:only-of-type {\n",
       "        vertical-align: middle;\n",
       "    }\n",
       "\n",
       "    .dataframe tbody tr th {\n",
       "        vertical-align: top;\n",
       "    }\n",
       "\n",
       "    .dataframe thead th {\n",
       "        text-align: right;\n",
       "    }\n",
       "</style>\n",
       "<table border=\"1\" class=\"dataframe\">\n",
       "  <thead>\n",
       "    <tr style=\"text-align: right;\">\n",
       "      <th></th>\n",
       "      <th>count</th>\n",
       "      <th>mean</th>\n",
       "      <th>std</th>\n",
       "      <th>min</th>\n",
       "      <th>25%</th>\n",
       "      <th>50%</th>\n",
       "      <th>75%</th>\n",
       "      <th>max</th>\n",
       "    </tr>\n",
       "  </thead>\n",
       "  <tbody>\n",
       "    <tr>\n",
       "      <th>visitors</th>\n",
       "      <td>62.0</td>\n",
       "      <td>607.290323</td>\n",
       "      <td>114.40056</td>\n",
       "      <td>361.0</td>\n",
       "      <td>534.0</td>\n",
       "      <td>624.5</td>\n",
       "      <td>710.5</td>\n",
       "      <td>770.0</td>\n",
       "    </tr>\n",
       "  </tbody>\n",
       "</table>\n",
       "</div>"
      ],
      "text/plain": [
       "          count        mean        std    min    25%    50%    75%    max\n",
       "visitors   62.0  607.290323  114.40056  361.0  534.0  624.5  710.5  770.0"
      ]
     },
     "execution_count": 24,
     "metadata": {},
     "output_type": "execute_result"
    }
   ],
   "source": [
    "visitors.describe().T"
   ]
  },
  {
   "cell_type": "markdown",
   "metadata": {},
   "source": [
    "*Минимальное и максимальное значения в orders['revenue'] выделяются, но в остальном все выглядит адекватно*"
   ]
  },
  {
   "cell_type": "markdown",
   "metadata": {},
   "source": [
    "### Приоритезация гипотез"
   ]
  },
  {
   "cell_type": "markdown",
   "metadata": {},
   "source": [
    "#### Отдел маркетинга подготовил 9 гипотез, которые оценены по 10-балльной шкале. Для приоритезации применим фреймворк ICE"
   ]
  },
  {
   "cell_type": "markdown",
   "metadata": {},
   "source": [
    "<br>\n",
    "\n",
    "$$ICE = \\frac{Impact * Confidence}{Efforts}$$\n",
    "\n",
    "$$RICE = \\frac{Rearch * Impact * Confidence}{Efforts}$$"
   ]
  },
  {
   "cell_type": "code",
   "execution_count": 25,
   "metadata": {},
   "outputs": [
    {
     "data": {
      "text/html": [
       "<div>\n",
       "<style scoped>\n",
       "    .dataframe tbody tr th:only-of-type {\n",
       "        vertical-align: middle;\n",
       "    }\n",
       "\n",
       "    .dataframe tbody tr th {\n",
       "        vertical-align: top;\n",
       "    }\n",
       "\n",
       "    .dataframe thead th {\n",
       "        text-align: right;\n",
       "    }\n",
       "</style>\n",
       "<table border=\"1\" class=\"dataframe\">\n",
       "  <thead>\n",
       "    <tr style=\"text-align: right;\">\n",
       "      <th></th>\n",
       "      <th>Hypothesis</th>\n",
       "      <th>ice</th>\n",
       "    </tr>\n",
       "  </thead>\n",
       "  <tbody>\n",
       "    <tr>\n",
       "      <th>8</th>\n",
       "      <td>Запустить акцию, дающую скидку на товар в день...</td>\n",
       "      <td>16.200000</td>\n",
       "    </tr>\n",
       "    <tr>\n",
       "      <th>0</th>\n",
       "      <td>Добавить два новых канала привлечения трафика,...</td>\n",
       "      <td>13.333333</td>\n",
       "    </tr>\n",
       "    <tr>\n",
       "      <th>7</th>\n",
       "      <td>Добавить форму подписки на все основные страни...</td>\n",
       "      <td>11.200000</td>\n",
       "    </tr>\n",
       "    <tr>\n",
       "      <th>6</th>\n",
       "      <td>Показать на главной странице баннеры с актуаль...</td>\n",
       "      <td>8.000000</td>\n",
       "    </tr>\n",
       "    <tr>\n",
       "      <th>2</th>\n",
       "      <td>Добавить блоки рекомендаций товаров на сайт ин...</td>\n",
       "      <td>7.000000</td>\n",
       "    </tr>\n",
       "  </tbody>\n",
       "</table>\n",
       "</div>"
      ],
      "text/plain": [
       "                                          Hypothesis        ice\n",
       "8  Запустить акцию, дающую скидку на товар в день...  16.200000\n",
       "0  Добавить два новых канала привлечения трафика,...  13.333333\n",
       "7  Добавить форму подписки на все основные страни...  11.200000\n",
       "6  Показать на главной странице баннеры с актуаль...   8.000000\n",
       "2  Добавить блоки рекомендаций товаров на сайт ин...   7.000000"
      ]
     },
     "execution_count": 25,
     "metadata": {},
     "output_type": "execute_result"
    }
   ],
   "source": [
    "hypothesis['ice'] = hypothesis['Impact'] * hypothesis['Confidence'] / hypothesis['Efforts']\n",
    "\n",
    "hypothesis[['Hypothesis', 'ice']].sort_values(by='ice', ascending=False).head(5)"
   ]
  },
  {
   "cell_type": "markdown",
   "metadata": {},
   "source": [
    "Топ-5 гипотез которым стоит уделить внимание:\n",
    "- Запустить акцию дающую скидку на товар в день рождения\n",
    "- Добавить два новых канала привлечения трафика, что позволит привлекать на 30% больше пользователей\n",
    "- Добавить форму подписки на все основные страницы, чтобы собрать базу клиентов для e-mail рассылок\n",
    "- Показать на главной странице баннеры с актуальными акциями и распродажами, чтобы увеличить конверсию\n",
    "- Добавить блоки рекомендаций товаров на сайт интернет магазина, чтобы повысить конверсию и средний чек заказа"
   ]
  },
  {
   "cell_type": "markdown",
   "metadata": {},
   "source": [
    "#### Применим фреймворк RICE, добавив к расчету параметр Reach"
   ]
  },
  {
   "cell_type": "code",
   "execution_count": 26,
   "metadata": {},
   "outputs": [
    {
     "data": {
      "text/html": [
       "<div>\n",
       "<style scoped>\n",
       "    .dataframe tbody tr th:only-of-type {\n",
       "        vertical-align: middle;\n",
       "    }\n",
       "\n",
       "    .dataframe tbody tr th {\n",
       "        vertical-align: top;\n",
       "    }\n",
       "\n",
       "    .dataframe thead th {\n",
       "        text-align: right;\n",
       "    }\n",
       "</style>\n",
       "<table border=\"1\" class=\"dataframe\">\n",
       "  <thead>\n",
       "    <tr style=\"text-align: right;\">\n",
       "      <th></th>\n",
       "      <th>Hypothesis</th>\n",
       "      <th>rice</th>\n",
       "    </tr>\n",
       "  </thead>\n",
       "  <tbody>\n",
       "    <tr>\n",
       "      <th>7</th>\n",
       "      <td>Добавить форму подписки на все основные страни...</td>\n",
       "      <td>112.0</td>\n",
       "    </tr>\n",
       "    <tr>\n",
       "      <th>2</th>\n",
       "      <td>Добавить блоки рекомендаций товаров на сайт ин...</td>\n",
       "      <td>56.0</td>\n",
       "    </tr>\n",
       "    <tr>\n",
       "      <th>0</th>\n",
       "      <td>Добавить два новых канала привлечения трафика,...</td>\n",
       "      <td>40.0</td>\n",
       "    </tr>\n",
       "    <tr>\n",
       "      <th>6</th>\n",
       "      <td>Показать на главной странице баннеры с актуаль...</td>\n",
       "      <td>40.0</td>\n",
       "    </tr>\n",
       "    <tr>\n",
       "      <th>8</th>\n",
       "      <td>Запустить акцию, дающую скидку на товар в день...</td>\n",
       "      <td>16.2</td>\n",
       "    </tr>\n",
       "  </tbody>\n",
       "</table>\n",
       "</div>"
      ],
      "text/plain": [
       "                                          Hypothesis   rice\n",
       "7  Добавить форму подписки на все основные страни...  112.0\n",
       "2  Добавить блоки рекомендаций товаров на сайт ин...   56.0\n",
       "0  Добавить два новых канала привлечения трафика,...   40.0\n",
       "6  Показать на главной странице баннеры с актуаль...   40.0\n",
       "8  Запустить акцию, дающую скидку на товар в день...   16.2"
      ]
     },
     "execution_count": 26,
     "metadata": {},
     "output_type": "execute_result"
    }
   ],
   "source": [
    "hypothesis['rice'] = hypothesis['Reach'] * hypothesis['Impact'] * hypothesis['Confidence'] / hypothesis['Efforts']\n",
    "\n",
    "hypothesis[['Hypothesis', 'rice']].sort_values(by='rice', ascending=False).head(5)"
   ]
  },
  {
   "cell_type": "markdown",
   "metadata": {},
   "source": [
    "*Топ-5 не изменился, но изменилась последовательность, это связано с тем что во фреймворке RICE учитывается охват пользователей, которых коснется изменение*"
   ]
  },
  {
   "cell_type": "markdown",
   "metadata": {},
   "source": [
    "#### Выведем результаты двух фреймворков"
   ]
  },
  {
   "cell_type": "code",
   "execution_count": 27,
   "metadata": {
    "scrolled": true
   },
   "outputs": [
    {
     "data": {
      "text/html": [
       "<div>\n",
       "<style scoped>\n",
       "    .dataframe tbody tr th:only-of-type {\n",
       "        vertical-align: middle;\n",
       "    }\n",
       "\n",
       "    .dataframe tbody tr th {\n",
       "        vertical-align: top;\n",
       "    }\n",
       "\n",
       "    .dataframe thead th {\n",
       "        text-align: right;\n",
       "    }\n",
       "</style>\n",
       "<table border=\"1\" class=\"dataframe\">\n",
       "  <thead>\n",
       "    <tr style=\"text-align: right;\">\n",
       "      <th></th>\n",
       "      <th>Hypothesis</th>\n",
       "      <th>ice</th>\n",
       "      <th>rice</th>\n",
       "    </tr>\n",
       "  </thead>\n",
       "  <tbody>\n",
       "    <tr>\n",
       "      <th>7</th>\n",
       "      <td>Добавить форму подписки на все основные страни...</td>\n",
       "      <td>11.200000</td>\n",
       "      <td>112.0</td>\n",
       "    </tr>\n",
       "    <tr>\n",
       "      <th>2</th>\n",
       "      <td>Добавить блоки рекомендаций товаров на сайт ин...</td>\n",
       "      <td>7.000000</td>\n",
       "      <td>56.0</td>\n",
       "    </tr>\n",
       "    <tr>\n",
       "      <th>0</th>\n",
       "      <td>Добавить два новых канала привлечения трафика,...</td>\n",
       "      <td>13.333333</td>\n",
       "      <td>40.0</td>\n",
       "    </tr>\n",
       "    <tr>\n",
       "      <th>6</th>\n",
       "      <td>Показать на главной странице баннеры с актуаль...</td>\n",
       "      <td>8.000000</td>\n",
       "      <td>40.0</td>\n",
       "    </tr>\n",
       "    <tr>\n",
       "      <th>8</th>\n",
       "      <td>Запустить акцию, дающую скидку на товар в день...</td>\n",
       "      <td>16.200000</td>\n",
       "      <td>16.2</td>\n",
       "    </tr>\n",
       "  </tbody>\n",
       "</table>\n",
       "</div>"
      ],
      "text/plain": [
       "                                          Hypothesis        ice   rice\n",
       "7  Добавить форму подписки на все основные страни...  11.200000  112.0\n",
       "2  Добавить блоки рекомендаций товаров на сайт ин...   7.000000   56.0\n",
       "0  Добавить два новых канала привлечения трафика,...  13.333333   40.0\n",
       "6  Показать на главной странице баннеры с актуаль...   8.000000   40.0\n",
       "8  Запустить акцию, дающую скидку на товар в день...  16.200000   16.2"
      ]
     },
     "execution_count": 27,
     "metadata": {},
     "output_type": "execute_result"
    }
   ],
   "source": [
    "hypothesis[['Hypothesis','ice', 'rice']].sort_values(by='rice', ascending=False).head(5)"
   ]
  },
  {
   "cell_type": "code",
   "execution_count": 28,
   "metadata": {},
   "outputs": [
    {
     "data": {
      "image/png": "[encoded data removed]",
      "text/plain": [
       "<Figure size 720x720 with 1 Axes>"
      ]
     },
     "metadata": {
      "needs_background": "light"
     },
     "output_type": "display_data"
    }
   ],
   "source": [
    "y = hypothesis['ice'] \n",
    "z = hypothesis['rice'] \n",
    "n = hypothesis.index \n",
    "\n",
    "fig, ax = plt.subplots()\n",
    "ax.scatter(z, y)\n",
    "\n",
    "for i, txt in enumerate(n):\n",
    "    ax.annotate(txt, (z[i], y[i]), size=30)\n",
    "\n",
    "plt.title(\"ICE and RICE гипотезы\") \n",
    "plt.xlabel(\"RICE\") \n",
    "plt.ylabel(\"ICE\")\n",
    "plt.grid()    \n",
    "\n",
    "fig.set_figheight(10)\n",
    "fig.set_figwidth(10) \n",
    "plt.show() "
   ]
  },
  {
   "cell_type": "markdown",
   "metadata": {},
   "source": [
    "<div style=\"border:solid green 2px; padding: 20px\">По полученным результатам можно сделать вывод, что наиболее приоритетны для нас будут гипотезы 7 и 2</div>"
   ]
  },
  {
   "cell_type": "markdown",
   "metadata": {},
   "source": [
    "### Анализ А/Б теста"
   ]
  },
  {
   "cell_type": "markdown",
   "metadata": {},
   "source": [
    "#### Для построения графиков коммулятивных данных, необходимо создать датафрейм, содержащий информацию о датах, группах(А/Б), кол-ве заказов, покупателей, посетителей и выручке"
   ]
  },
  {
   "cell_type": "code",
   "execution_count": 29,
   "metadata": {},
   "outputs": [],
   "source": [
    "datesGroups = orders[['date','group']].drop_duplicates().sort_values(by=['date', 'group'])"
   ]
  },
  {
   "cell_type": "code",
   "execution_count": 30,
   "metadata": {},
   "outputs": [],
   "source": [
    "#выводим кумулятивные показатели из orders\n",
    "ordersAggregated = datesGroups.apply(\n",
    "    lambda x: orders[\n",
    "        np.logical_and(\n",
    "            x['date'] >= orders['date'], x['group']==orders['group'])\n",
    "    ].agg(\n",
    "        {\n",
    "            'date':'max', \n",
    "            'group':'max', \n",
    "            'transactionId':'nunique', \n",
    "            'visitorId':'nunique', \n",
    "            'revenue':'sum',\n",
    "        }\n",
    "    ), \n",
    "    axis = 1,\n",
    ").sort_values(by=['date', 'group'])"
   ]
  },
  {
   "cell_type": "code",
   "execution_count": 31,
   "metadata": {},
   "outputs": [],
   "source": [
    "#выводим кумулятивные показатели из visitors\n",
    "visitorsAggregated = datesGroups.apply(\n",
    "    lambda x: visitors[\n",
    "        np.logical_and(\n",
    "            x['date'] >= visitors['date'], x['group']==visitors['group'])\n",
    "    ].agg(\n",
    "        {\n",
    "            'date':'max', \n",
    "            'group':'max', \n",
    "            'visitors':'sum',\n",
    "        }\n",
    "    ), \n",
    "    axis = 1,\n",
    ").sort_values(by=['date', 'group'])"
   ]
  },
  {
   "cell_type": "code",
   "execution_count": 32,
   "metadata": {},
   "outputs": [
    {
     "data": {
      "text/html": [
       "<div>\n",
       "<style scoped>\n",
       "    .dataframe tbody tr th:only-of-type {\n",
       "        vertical-align: middle;\n",
       "    }\n",
       "\n",
       "    .dataframe tbody tr th {\n",
       "        vertical-align: top;\n",
       "    }\n",
       "\n",
       "    .dataframe thead th {\n",
       "        text-align: right;\n",
       "    }\n",
       "</style>\n",
       "<table border=\"1\" class=\"dataframe\">\n",
       "  <thead>\n",
       "    <tr style=\"text-align: right;\">\n",
       "      <th></th>\n",
       "      <th>date</th>\n",
       "      <th>group</th>\n",
       "      <th>orders</th>\n",
       "      <th>buyers</th>\n",
       "      <th>revenue</th>\n",
       "      <th>visitors</th>\n",
       "    </tr>\n",
       "  </thead>\n",
       "  <tbody>\n",
       "    <tr>\n",
       "      <th>0</th>\n",
       "      <td>2019-08-01</td>\n",
       "      <td>A</td>\n",
       "      <td>24</td>\n",
       "      <td>20</td>\n",
       "      <td>148579</td>\n",
       "      <td>719</td>\n",
       "    </tr>\n",
       "    <tr>\n",
       "      <th>1</th>\n",
       "      <td>2019-08-01</td>\n",
       "      <td>B</td>\n",
       "      <td>21</td>\n",
       "      <td>20</td>\n",
       "      <td>101217</td>\n",
       "      <td>713</td>\n",
       "    </tr>\n",
       "    <tr>\n",
       "      <th>2</th>\n",
       "      <td>2019-08-02</td>\n",
       "      <td>A</td>\n",
       "      <td>44</td>\n",
       "      <td>38</td>\n",
       "      <td>242401</td>\n",
       "      <td>1338</td>\n",
       "    </tr>\n",
       "    <tr>\n",
       "      <th>3</th>\n",
       "      <td>2019-08-02</td>\n",
       "      <td>B</td>\n",
       "      <td>45</td>\n",
       "      <td>43</td>\n",
       "      <td>266748</td>\n",
       "      <td>1294</td>\n",
       "    </tr>\n",
       "    <tr>\n",
       "      <th>4</th>\n",
       "      <td>2019-08-03</td>\n",
       "      <td>A</td>\n",
       "      <td>68</td>\n",
       "      <td>62</td>\n",
       "      <td>354874</td>\n",
       "      <td>1845</td>\n",
       "    </tr>\n",
       "  </tbody>\n",
       "</table>\n",
       "</div>"
      ],
      "text/plain": [
       "        date group  orders  buyers  revenue  visitors\n",
       "0 2019-08-01     A      24      20   148579       719\n",
       "1 2019-08-01     B      21      20   101217       713\n",
       "2 2019-08-02     A      44      38   242401      1338\n",
       "3 2019-08-02     B      45      43   266748      1294\n",
       "4 2019-08-03     A      68      62   354874      1845"
      ]
     },
     "execution_count": 32,
     "metadata": {},
     "output_type": "execute_result"
    }
   ],
   "source": [
    "#сводим все накопительные данные в одну таблицу\n",
    "cummulativeData = ordersAggregated.merge(\n",
    "    visitorsAggregated, left_on=['date', 'group'], right_on=['date', 'group']\n",
    ")\n",
    "cummulativeData.columns = [\n",
    "    'date',\n",
    "    'group',\n",
    "    'orders',\n",
    "    'buyers',\n",
    "    'revenue',\n",
    "    'visitors',\n",
    "]\n",
    "cummulativeData.head()"
   ]
  },
  {
   "cell_type": "markdown",
   "metadata": {},
   "source": [
    "<div style=\"border:solid green 2px; padding: 20px\">Все готово для построения графиков, приступим к анализу результатов</div>"
   ]
  },
  {
   "cell_type": "markdown",
   "metadata": {},
   "source": [
    "#### Построим график кумулятивной выручки по группам"
   ]
  },
  {
   "cell_type": "code",
   "execution_count": 35,
   "metadata": {
    "scrolled": true
   },
   "outputs": [
    {
     "data": {
      "image/png": "[encoded data removed]",
      "text/plain": [
       "<Figure size 720x288 with 1 Axes>"
      ]
     },
     "metadata": {
      "needs_background": "light"
     },
     "output_type": "display_data"
    }
   ],
   "source": [
    "cummulativeDataA = cummulativeData[cummulativeData['group']=='A']\n",
    "cummulativeDataB = cummulativeData[cummulativeData['group']=='B']\n",
    "plt.figure(figsize=(10,4))\n",
    "plt.plot(cummulativeDataA['date'], cummulativeDataA['revenue'], label = 'A')\n",
    "plt.plot(cummulativeDataB['date'], cummulativeDataB['revenue'], label = 'B')\n",
    "plt.ylabel('Выручка')\n",
    "plt.xlabel('Дата')\n",
    "plt.title('Графики кумулятивной выручки по группам A/B')\n",
    "plt.legend()\n",
    "plt.show();"
   ]
  },
  {
   "cell_type": "markdown",
   "metadata": {},
   "source": [
    "*Кумулятивная выручка группы А растет плавно и она меньше, чем у группы Б. После 17го Августа наблюдается резкий скачок в группе Б, это может быть связано с увеличением кол-ва заказов или с поялвением \"выбросов\" в виде очень дорогих позиций.*"
   ]
  },
  {
   "cell_type": "markdown",
   "metadata": {},
   "source": [
    "#### Построим график кумулятивного среднего чека по группам"
   ]
  },
  {
   "cell_type": "code",
   "execution_count": 36,
   "metadata": {},
   "outputs": [
    {
     "data": {
      "image/png": "[encoded data removed]",
      "text/plain": [
       "<Figure size 720x288 with 1 Axes>"
      ]
     },
     "metadata": {
      "needs_background": "light"
     },
     "output_type": "display_data"
    }
   ],
   "source": [
    "plt.figure(figsize=(10,4))\n",
    "plt.plot(cummulativeDataA['date'], cummulativeDataA['revenue']/cummulativeDataA['orders'], label = 'A')\n",
    "plt.plot(cummulativeDataB['date'], cummulativeDataB['revenue']/cummulativeDataB['orders'], label = 'B')\n",
    "plt.title('Графики кумулятивного среднего чека по группам A/B')\n",
    "plt.ylabel('Средний чек')\n",
    "plt.xlabel('Дата')\n",
    "plt.legend()\n",
    "plt.show()"
   ]
  },
  {
   "cell_type": "markdown",
   "metadata": {},
   "source": [
    "*Мы видим взлет показателей среднего чека группы Б, что говорит о появлении дорогих позиций. График среднего чека группы А стабилизировался через 2 недели после запуска теста*"
   ]
  },
  {
   "cell_type": "markdown",
   "metadata": {},
   "source": [
    "#### Построим график относительного изменения кумулятивного среднего чека группы B к группе A"
   ]
  },
  {
   "cell_type": "code",
   "execution_count": 37,
   "metadata": {
    "scrolled": true
   },
   "outputs": [
    {
     "data": {
      "image/png": "[encoded data removed]",
      "text/plain": [
       "<Figure size 720x288 with 1 Axes>"
      ]
     },
     "metadata": {
      "needs_background": "light"
     },
     "output_type": "display_data"
    }
   ],
   "source": [
    "mergedCummulativeData = cummulativeDataA.merge(cummulativeDataB, left_on='date', right_on='date', suffixes=['A', 'B'])\n",
    "mergedCummulativeData.head(5)\n",
    "plt.figure(figsize=(10,4))\n",
    "plt.plot(mergedCummulativeData['date'], ((mergedCummulativeData['revenueB']/mergedCummulativeData['ordersB'])/\n",
    "                                       (mergedCummulativeData['revenueA']/mergedCummulativeData['ordersA'])-1))\n",
    "plt.axhline(y=0, color='black', linestyle = '--')\n",
    "plt.title('График относительного изменения кумулятивного среднего чека группы B к группе A')\n",
    "plt.xlabel('Дата')\n",
    "plt.show()"
   ]
  },
  {
   "cell_type": "markdown",
   "metadata": {},
   "source": [
    "*Очевидны большие скачки, что подтверждает наличие выбросов и крупных позиций*"
   ]
  },
  {
   "cell_type": "markdown",
   "metadata": {},
   "source": [
    "#### Построим график кумулятивной конверсии по группам"
   ]
  },
  {
   "cell_type": "code",
   "execution_count": 38,
   "metadata": {
    "scrolled": true
   },
   "outputs": [
    {
     "data": {
      "image/png": "[encoded data removed]",
      "text/plain": [
       "<Figure size 720x288 with 1 Axes>"
      ]
     },
     "metadata": {
      "needs_background": "light"
     },
     "output_type": "display_data"
    }
   ],
   "source": [
    "mergedCummulativeData['conversionA'] =  mergedCummulativeData['ordersA'] / mergedCummulativeData['visitorsA'] \n",
    "mergedCummulativeData['conversionB'] =  mergedCummulativeData['ordersB'] / mergedCummulativeData['visitorsB']\n",
    "mergedCummulativeData.head(5)\n",
    "plt.figure(figsize=(10,4))\n",
    "plt.plot(mergedCummulativeData['date'], mergedCummulativeData['conversionA'], label='A')\n",
    "plt.plot(mergedCummulativeData['date'], mergedCummulativeData['conversionB'], label='B')\n",
    "plt.title('График кумулятивной конверсии по группам A/B')\n",
    "plt.xlabel('Дата')\n",
    "plt.ylabel('Конверсия')\n",
    "plt.legend()\n",
    "plt.show()"
   ]
  },
  {
   "cell_type": "markdown",
   "metadata": {},
   "source": [
    "*Конверсии стабилизировались через неделю после запуска теста, по графику видно, что результаты группы Б выглядят значительно лучше, чем у группы А*"
   ]
  },
  {
   "cell_type": "markdown",
   "metadata": {},
   "source": [
    "#### Построим график изменения кумулятивной конверсии группы Б к группе А"
   ]
  },
  {
   "cell_type": "code",
   "execution_count": 39,
   "metadata": {},
   "outputs": [
    {
     "data": {
      "image/png": "[encoded data removed]",
      "text/plain": [
       "<Figure size 720x288 with 1 Axes>"
      ]
     },
     "metadata": {
      "needs_background": "light"
     },
     "output_type": "display_data"
    }
   ],
   "source": [
    "mergedCummulativeData.head(5)\n",
    "plt.figure(figsize=(10,4))\n",
    "plt.plot(mergedCummulativeData['date'], ((mergedCummulativeData['conversionB']/mergedCummulativeData['conversionA'])-1))\n",
    "plt.title('График относительного изменения кумулятивной конверсии группы B к группе A')\n",
    "plt.axhline(y=0, color='black', linestyle='--')\n",
    "plt.axhline(y=0.1, color='grey', linestyle='--')\n",
    "plt.xlabel('Дата')\n",
    "plt.show()"
   ]
  },
  {
   "cell_type": "markdown",
   "metadata": {},
   "source": [
    "*Первую неделю теста группа Б проигрывала группе А, но со временем начала расти и вышла в лидеры. Далее мы видим небольшое снижение и возобновление роста к концу Августа - началу Сентября. Необходимо иметь в виду выбросы, о которых сигнализировали графики выше*"
   ]
  },
  {
   "cell_type": "markdown",
   "metadata": {},
   "source": [
    "#### Построим точечный график количества заказов по пользователям"
   ]
  },
  {
   "cell_type": "code",
   "execution_count": 43,
   "metadata": {},
   "outputs": [
    {
     "data": {
      "text/plain": [
       "count    1031.000000\n",
       "mean        1.161009\n",
       "std         0.724919\n",
       "min         1.000000\n",
       "25%         1.000000\n",
       "50%         1.000000\n",
       "75%         1.000000\n",
       "max        11.000000\n",
       "Name: orders, dtype: float64"
      ]
     },
     "metadata": {},
     "output_type": "display_data"
    }
   ],
   "source": [
    "ordersByUsers = (\n",
    "    orders.groupby('visitorId', as_index=False)\n",
    "    .agg({'transactionId': 'nunique'})\n",
    ")\n",
    "ordersByUsers.columns =  ['visitorId', 'orders']\n",
    "display(ordersByUsers['orders'].describe())"
   ]
  },
  {
   "cell_type": "code",
   "execution_count": 44,
   "metadata": {},
   "outputs": [
    {
     "data": {
      "image/png": "[encoded data removed]",
      "text/plain": [
       "<Figure size 720x288 with 1 Axes>"
      ]
     },
     "metadata": {
      "needs_background": "light"
     },
     "output_type": "display_data"
    }
   ],
   "source": [
    "x_values = pd.Series(range(0, len(ordersByUsers)))\n",
    "plt.figure(figsize=(10,4))\n",
    "plt.scatter(x_values, ordersByUsers['orders'], color='green', alpha=0.5)\n",
    "plt.xlabel('Количество пользователей')\n",
    "plt.ylabel('Количество заказов')\n",
    "plt.title('Точечная диаграмма числа заказов на одного пользователя')\n",
    "plt.show()"
   ]
  },
  {
   "cell_type": "markdown",
   "metadata": {},
   "source": [
    "*Исходя из полученных данных, можно сказать, что большинство пользователей не совершает более двух заказов*"
   ]
  },
  {
   "cell_type": "markdown",
   "metadata": {},
   "source": [
    "#### Посчитаем 95-й и 99-й перцентили количества заказов на пользователя"
   ]
  },
  {
   "cell_type": "code",
   "execution_count": 51,
   "metadata": {},
   "outputs": [
    {
     "data": {
      "text/plain": [
       "array([2., 4.])"
      ]
     },
     "metadata": {},
     "output_type": "display_data"
    }
   ],
   "source": [
    "orders_max = np.percentile(ordersByUsers['orders'], [95, 99])\n",
    "display(orders_max)"
   ]
  },
  {
   "cell_type": "markdown",
   "metadata": {},
   "source": [
    "*Не более 5% пользователей совершили больше 2х заказов, и лишь 1% заказывали больше 4х раз*"
   ]
  },
  {
   "cell_type": "markdown",
   "metadata": {},
   "source": [
    "#### Построим точечный график стоимостей заказов"
   ]
  },
  {
   "cell_type": "code",
   "execution_count": 49,
   "metadata": {
    "scrolled": false
   },
   "outputs": [
    {
     "data": {
      "image/png": "[encoded data removed]",
      "text/plain": [
       "<Figure size 720x288 with 1 Axes>"
      ]
     },
     "metadata": {
      "needs_background": "light"
     },
     "output_type": "display_data"
    }
   ],
   "source": [
    "x_values = pd.Series(range(0, len(orders)))\n",
    "plt.figure(figsize=(10,4))\n",
    "plt.scatter(x_values, orders['revenue'], color='green', alpha=0.5)\n",
    "plt.xlabel('Количество пользователей')\n",
    "plt.ylabel('Сумма заказов')\n",
    "plt.title('Точечная диаграмма сумм заказов на одного пользователя')\n",
    "plt.show()"
   ]
  },
  {
   "cell_type": "markdown",
   "metadata": {},
   "source": [
    "*На диаграмме виден заказ стоимостью больше 1.2млн, он мог вызвать скачки на графиках выше. Также можно заметить несколько дорогих заказов, отличающихся от большинства. Посмотрим на перцентили*"
   ]
  },
  {
   "cell_type": "markdown",
   "metadata": {},
   "source": [
    "#### Посчитаем 95-й и 99-й перцентили стоимости заказов"
   ]
  },
  {
   "cell_type": "code",
   "execution_count": 52,
   "metadata": {},
   "outputs": [
    {
     "data": {
      "text/plain": [
       "array([28000. , 58233.2])"
      ]
     },
     "metadata": {},
     "output_type": "display_data"
    }
   ],
   "source": [
    "revenue_max = np.percentile(orders['revenue'], [95, 99])\n",
    "display(revenue_max)"
   ]
  },
  {
   "cell_type": "markdown",
   "metadata": {},
   "source": [
    "*Как мы можем увидеть, большинство пользователей не совершает покупки дороже 30тыс руб, и 1% покупает на сумму около 60тыс и больше*"
   ]
  },
  {
   "cell_type": "markdown",
   "metadata": {},
   "source": [
    "#### Посчитаем статистическую значимость различий в среднем количестве заказов между группами по «сырым» данным"
   ]
  },
  {
   "cell_type": "markdown",
   "metadata": {},
   "source": [
    "Для этого подготовим данные и введем нулевую и альтернативную гипотезы:\n",
    "\n",
    "- Нулевая гипотеза: различий в конверсии между группами нет.\n",
    "\n",
    "- Альтернативная гипотеза: различия в конверсии между группами есть.\n",
    "\n",
    "Уровень статистической значимости α = 0.05"
   ]
  },
  {
   "cell_type": "code",
   "execution_count": 53,
   "metadata": {},
   "outputs": [],
   "source": [
    "ordersByUsersA = orders[orders['group']=='A'].groupby('visitorId', as_index=False).agg({'transactionId':'nunique'})\n",
    "ordersByUsersA.columns = ['visitorId', 'orders']\n",
    "ordersByUsersB = orders[orders['group']=='B'].groupby('visitorId', as_index=False).agg({'transactionId':'nunique'})\n",
    "ordersByUsersB.columns = ['visitorId', 'orders']"
   ]
  },
  {
   "cell_type": "code",
   "execution_count": 54,
   "metadata": {},
   "outputs": [
    {
     "name": "stdout",
     "output_type": "stream",
     "text": [
      "\n",
      "Относительный прирост конверсии группы B по отношению к группе A: 0.138\n",
      "P-value: 0.016792355056752608\n",
      "По неочищенным данным в конверсии групп A и B разница статистически значима!\n"
     ]
    }
   ],
   "source": [
    "list_orders_1 =[]\n",
    "for i in range(0,(visitors[visitors['group']=='A']['visitors'].sum()-len(ordersByUsersA))):\n",
    "    list_orders_1.append(0)\n",
    "orders_by_non_purchased_users_A = pd.Series(data = list_orders_1, name = 'orders')\n",
    "\n",
    "list_orders_2 =[]\n",
    "for i in range(0,(visitors[visitors['group']=='B']['visitors'].sum()-len(ordersByUsersB))):\n",
    "    list_orders_2.append(0)\n",
    "orders_by_non_purchased_users_B = pd.Series(data = list_orders_2, name = 'orders')\n",
    "\n",
    "sampleA = pd.concat([ordersByUsersA['orders'], orders_by_non_purchased_users_A], axis=0)\n",
    "sampleB = pd.concat([ordersByUsersB['orders'], orders_by_non_purchased_users_B], axis=0)\n",
    "print('\\nОтносительный прирост конверсии группы B по отношению к группе A: {:.3f}'.format(sampleB.mean()/\n",
    "                                                                                          sampleA.mean()-1))\n",
    "alpha = 0.05\n",
    "results = stats.mannwhitneyu(sampleA, sampleB)\n",
    "print('P-value: {}'.format(results.pvalue))\n",
    "if results.pvalue < alpha:\n",
    "    print('По неочищенным данным в конверсии групп A и B разница статистически значима!')\n",
    "else:\n",
    "    print('По неочищенным данным различий в конверсии групп A и B нет!')"
   ]
  },
  {
   "cell_type": "markdown",
   "metadata": {},
   "source": [
    "*По \"сырым\" данным видны различия - прирост конверсии группы Б к А больше 13%, p-value = 0.016 при значимости 5%, значит мы отвергаем гипотезу о том что статистически значимых различий между группами нет*"
   ]
  },
  {
   "cell_type": "markdown",
   "metadata": {},
   "source": [
    "#### Посчитаем статистическую значимость различий в среднем чеке заказа между группами по «сырым» данным"
   ]
  },
  {
   "cell_type": "markdown",
   "metadata": {},
   "source": [
    "- Нулевая гипотеза: различий в среднем чеке между группами нет.\n",
    "\n",
    "- Альтернативная гипотеза: различия в среднем чеке между группами есть.\n",
    "\n",
    "Уровень статистической значимости α = 0.05"
   ]
  },
  {
   "cell_type": "code",
   "execution_count": 67,
   "metadata": {},
   "outputs": [
    {
     "name": "stdout",
     "output_type": "stream",
     "text": [
      "Относительное изменение среднего чека в группе B по отношению группы A: 0.259\n",
      "P-value: 0.7292909855432458\n",
      "По неочищенным данным разница в средних чеках в группах A и B статистически не значима!\n"
     ]
    }
   ],
   "source": [
    "print('Относительное изменение среднего чека в группе B по отношению группы A: {:.3f}'.format(\n",
    "orders[orders['group']=='B']['revenue'].mean()/orders[orders['group']=='A']['revenue'].mean()-1))\n",
    "results = stats.mannwhitneyu(orders[orders['group']=='A']['revenue'], orders[orders['group']=='B']['revenue'])\n",
    "print('P-value: {}'.format(results.pvalue))\n",
    "if results.pvalue < alpha:\n",
    "    print('По неочищенным данным разница в средних чеках в группах A и B статистически значима!')\n",
    "else:\n",
    "    print('По неочищенным данным разница в средних чеках в группах A и B статистически не значима!')"
   ]
  },
  {
   "cell_type": "markdown",
   "metadata": {},
   "source": [
    "*По \"сырым\" данным различий нет, p-value = 0.72 при значимости 5%, нулевую гипотезу не отвергаем. Разница в 26% не является статистически значимой*"
   ]
  },
  {
   "cell_type": "markdown",
   "metadata": {},
   "source": [
    "#### Посчитаем статистическую значимость различий в среднем количестве заказов между группами по «очищенным» данным, за потолок возьмем значения полученные из исследований выше - большинство пользователей не совершает больше 2 заказов, и не заказыват на сумму больше 28тыс руб"
   ]
  },
  {
   "cell_type": "markdown",
   "metadata": {},
   "source": [
    "- Нулевая гипотеза: различий в конверсии между группами нет.\n",
    "\n",
    "- Альтернативная гипотеза: различия в конверсии между группами есть.\n",
    "\n",
    "Уровень статистической значимости α = 0.05"
   ]
  },
  {
   "cell_type": "code",
   "execution_count": 68,
   "metadata": {},
   "outputs": [],
   "source": [
    "limit_orders = orders_max[0]\n",
    "limit_revenue = revenue_max[0]"
   ]
  },
  {
   "cell_type": "markdown",
   "metadata": {},
   "source": [
    "***Соберем аномальных пользователей в abnormalUsers***"
   ]
  },
  {
   "cell_type": "code",
   "execution_count": 69,
   "metadata": {},
   "outputs": [
    {
     "name": "stdout",
     "output_type": "stream",
     "text": [
      "Кол-во аномальных пользователей: 74\n"
     ]
    }
   ],
   "source": [
    "usersWithManyOrders = pd.concat([ordersByUsersA[ordersByUsersA['orders']>limit_orders]['visitorId'], \n",
    "                                ordersByUsersB[ordersByUsersB['orders']>limit_orders]['visitorId']], axis = 0)\n",
    "usersWithExpensiveOrders = orders[orders['revenue']>limit_revenue]['visitorId']\n",
    "abnormalUsers = pd.concat([usersWithManyOrders, usersWithExpensiveOrders], axis = 0).drop_duplicates().sort_values()\n",
    "print('Кол-во аномальных пользователей: {}'.format(len(abnormalUsers)))"
   ]
  },
  {
   "cell_type": "code",
   "execution_count": 70,
   "metadata": {},
   "outputs": [
    {
     "name": "stdout",
     "output_type": "stream",
     "text": [
      "\n",
      "Относительный прирост конверсии группы B по отношению к группе A после очистки данных: 0.173\n",
      "P-value: 0.013042592743036745\n",
      "По очищенным данным в конверсии групп A и B разница статистически значима!\n"
     ]
    }
   ],
   "source": [
    "sampleAFiltered = pd.concat([\n",
    "    ordersByUsersA[np.logical_not(ordersByUsersA['visitorId'].isin(abnormalUsers))]['orders'],\n",
    "    orders_by_non_purchased_users_A\n",
    "], axis = 0)\n",
    "sampleBFiltered = pd.concat([\n",
    "    ordersByUsersB[np.logical_not(ordersByUsersB['visitorId'].isin(abnormalUsers))]['orders'],\n",
    "    orders_by_non_purchased_users_B\n",
    "], axis = 0)\n",
    "print('\\nОтносительный прирост конверсии группы B по отношению к группе A после очистки данных: {:.3f}'\\\n",
    "      .format(sampleBFiltered.mean()/sampleAFiltered.mean()-1))\n",
    "results = stats.mannwhitneyu(sampleAFiltered, sampleBFiltered)\n",
    "print('P-value: {}'.format(results.pvalue))\n",
    "if results.pvalue < alpha:\n",
    "    print('По очищенным данным в конверсии групп A и B разница статистически значима!')\n",
    "else:\n",
    "    print('По очищенным данным различий в конверсии групп A и B нет!')"
   ]
  },
  {
   "cell_type": "markdown",
   "metadata": {},
   "source": [
    "*По \"очищенным\" данным разница значима. Прирост конверсии группы Б к А увеличился до 17%, p-value = 0.013 при значимости 5%*"
   ]
  },
  {
   "cell_type": "markdown",
   "metadata": {},
   "source": [
    " #### Посчитаем статистическую значимость различий в среднем чеке заказа между группами по «очищенным» данным"
   ]
  },
  {
   "cell_type": "markdown",
   "metadata": {},
   "source": [
    "- Нулевая гипотеза: различий в среднем чеке между группами нет.\n",
    "\n",
    "- Альтернативная гипотеза: различия в среднем чеке между группами есть.\n",
    "\n",
    "Уровень статистической значимости α = 0.05"
   ]
  },
  {
   "cell_type": "code",
   "execution_count": 66,
   "metadata": {},
   "outputs": [
    {
     "name": "stdout",
     "output_type": "stream",
     "text": [
      "Относительное изменение среднего чека в группе B по отношению группы A после очистки данных: -0.020\n",
      "P-value: 0.738481751314565\n",
      "По очищенным данным различий в средних чеках в группах A и B нет!\n"
     ]
    }
   ],
   "source": [
    "print('Относительное изменение среднего чека в группе B по отношению группы A после очистки данных: {:.3f}'.format(\n",
    "orders[np.logical_and(orders['group']=='B', np.logical_not(orders['visitorId'].isin(abnormalUsers)))]['revenue'].mean()\\\n",
    "/orders[np.logical_and(orders['group']=='A', np.logical_not(orders['visitorId'].isin(abnormalUsers)))]['revenue'].mean()-1))\n",
    "       \n",
    "       \n",
    "results = stats.mannwhitneyu(orders[np.logical_and(orders['group']=='A', np.logical_not(orders['visitorId'].isin(abnormalUsers)))]['revenue'],\n",
    "                             orders[np.logical_and(orders['group']=='B', np.logical_not(orders['visitorId'].isin(abnormalUsers)))]['revenue'])\n",
    "print('P-value: {}'.format(results.pvalue))\n",
    "if results.pvalue < alpha:\n",
    "    print('По очищенным данным разница в средних чеках в группах A и B статистически значима!')\n",
    "else:\n",
    "    print('По очищенным данным различий в средних чеках в группах A и B нет!')"
   ]
  },
  {
   "cell_type": "markdown",
   "metadata": {},
   "source": [
    "*По разнице чеков различия практически нет: -0.02, p-value 0.73 при значимости 5%*"
   ]
  },
  {
   "cell_type": "markdown",
   "metadata": {},
   "source": [
    "### Вывод"
   ]
  },
  {
   "cell_type": "markdown",
   "metadata": {},
   "source": [
    "<div style=\"border:solid green 2px; padding: 20px\">\n",
    "\n",
    "    \n",
    "Мы провели исследование данных пользователей интернет-магазина. По результату анализа можно выделить следующие моменты:\n",
    "    \n",
    "***Приоритезация гипотез***\n",
    "\n",
    "После оценки списка гипотез фреймворками, предоставленных отделом маркетинга, можно рекомендовать обратить первоочередное внимание на гипотезы:\n",
    "    - \"Добавить форму подписки на все основные страницы, чтобы собрать базу клиентов для email-рассылок\"\n",
    "    - \"Добавить блоки рекомендаций товаров на сайт интернет магазина, чтобы повысить конверсию и средний чек заказа\"\n",
    "    \n",
    "***Анализ результатов А/Б теста***\n",
    "    \n",
    "- Графики куммулятивных данных(выручка, средний чек, конверсия) указывают на \"победу\" группы Б\n",
    "- В конверсии есть статистически значимые различия между группами, как по сырым так и по очищенным данным. Конверсия группы Б выше на 13-17%\n",
    "- По среднему чеку статистически значимых различий нет, ни в сырых, ни в очищенных данных. Разница средних чеков групп А и Б составляет менее 2%.\n",
    "\n",
    "***Исходя из результатов, полученных в ходе проведения анализа, можно рекомендовать остановить тест и зафиксировать победу группы Б.***\n",
    "    \n",
    "</div>"
   ]
  }
 ],
 "metadata": {
  "ExecuteTimeLog": [
   {
    "duration": 1470,
    "start_time": "2022-12-05T07:41:02.012Z"
   },
   {
    "duration": 231,
    "start_time": "2022-12-05T07:42:04.252Z"
   },
   {
    "duration": 18,
    "start_time": "2022-12-05T07:42:59.314Z"
   },
   {
    "duration": 4,
    "start_time": "2022-12-05T07:43:52.541Z"
   },
   {
    "duration": 13,
    "start_time": "2022-12-05T07:44:03.057Z"
   },
   {
    "duration": 12,
    "start_time": "2022-12-05T07:48:59.592Z"
   },
   {
    "duration": 4,
    "start_time": "2022-12-05T07:49:24.235Z"
   },
   {
    "duration": 12,
    "start_time": "2022-12-05T07:49:31.146Z"
   },
   {
    "duration": 10,
    "start_time": "2022-12-05T07:50:14.894Z"
   },
   {
    "duration": 14,
    "start_time": "2022-12-05T07:50:23.424Z"
   },
   {
    "duration": 7,
    "start_time": "2022-12-05T07:51:30.571Z"
   },
   {
    "duration": 6,
    "start_time": "2022-12-05T07:51:44.931Z"
   },
   {
    "duration": 5,
    "start_time": "2022-12-05T07:52:02.206Z"
   },
   {
    "duration": 5,
    "start_time": "2022-12-05T07:52:09.189Z"
   },
   {
    "duration": 15,
    "start_time": "2022-12-05T07:53:42.494Z"
   },
   {
    "duration": 11,
    "start_time": "2022-12-05T07:53:53.085Z"
   },
   {
    "duration": 15,
    "start_time": "2022-12-05T07:54:01.203Z"
   },
   {
    "duration": 12,
    "start_time": "2022-12-05T07:55:22.581Z"
   },
   {
    "duration": 11,
    "start_time": "2022-12-05T07:57:19.464Z"
   },
   {
    "duration": 12,
    "start_time": "2022-12-05T07:57:53.172Z"
   },
   {
    "duration": 6,
    "start_time": "2022-12-05T08:17:58.717Z"
   },
   {
    "duration": 8,
    "start_time": "2022-12-05T08:21:13.651Z"
   },
   {
    "duration": 1333,
    "start_time": "2022-12-05T08:23:18.989Z"
   },
   {
    "duration": 77,
    "start_time": "2022-12-05T08:23:21.070Z"
   },
   {
    "duration": 14,
    "start_time": "2022-12-05T08:23:23.128Z"
   },
   {
    "duration": 16,
    "start_time": "2022-12-05T08:23:25.549Z"
   },
   {
    "duration": 11,
    "start_time": "2022-12-05T08:23:35.001Z"
   },
   {
    "duration": 13,
    "start_time": "2022-12-05T08:23:41.828Z"
   },
   {
    "duration": 20,
    "start_time": "2022-12-05T08:24:40.297Z"
   },
   {
    "duration": 7,
    "start_time": "2022-12-05T08:24:42.408Z"
   },
   {
    "duration": 7,
    "start_time": "2022-12-05T08:25:03.104Z"
   },
   {
    "duration": 11,
    "start_time": "2022-12-05T08:25:04.278Z"
   },
   {
    "duration": 7,
    "start_time": "2022-12-05T08:25:04.983Z"
   },
   {
    "duration": 1248,
    "start_time": "2022-12-05T08:25:58.895Z"
   },
   {
    "duration": 82,
    "start_time": "2022-12-05T08:26:00.918Z"
   },
   {
    "duration": 13,
    "start_time": "2022-12-05T08:26:02.315Z"
   },
   {
    "duration": 13,
    "start_time": "2022-12-05T08:26:04.175Z"
   },
   {
    "duration": 9,
    "start_time": "2022-12-05T08:26:06.089Z"
   },
   {
    "duration": 20,
    "start_time": "2022-12-05T08:26:09.047Z"
   },
   {
    "duration": 6,
    "start_time": "2022-12-05T08:26:14.791Z"
   },
   {
    "duration": 16,
    "start_time": "2022-12-05T08:26:16.256Z"
   },
   {
    "duration": 7,
    "start_time": "2022-12-05T08:26:17.371Z"
   },
   {
    "duration": 6,
    "start_time": "2022-12-05T08:26:27.612Z"
   },
   {
    "duration": 6,
    "start_time": "2022-12-05T08:26:28.183Z"
   },
   {
    "duration": 9,
    "start_time": "2022-12-05T08:27:56.471Z"
   },
   {
    "duration": 11,
    "start_time": "2022-12-05T08:27:58.786Z"
   },
   {
    "duration": 5,
    "start_time": "2022-12-05T08:28:04.144Z"
   },
   {
    "duration": 6,
    "start_time": "2022-12-05T08:28:04.737Z"
   },
   {
    "duration": 14,
    "start_time": "2022-12-05T08:28:08.669Z"
   },
   {
    "duration": 168,
    "start_time": "2022-12-05T08:28:47.002Z"
   },
   {
    "duration": 15,
    "start_time": "2022-12-05T08:28:54.172Z"
   },
   {
    "duration": 17,
    "start_time": "2022-12-05T08:29:05.368Z"
   },
   {
    "duration": 15,
    "start_time": "2022-12-05T08:30:14.131Z"
   },
   {
    "duration": 1246,
    "start_time": "2022-12-05T08:30:27.609Z"
   },
   {
    "duration": 86,
    "start_time": "2022-12-05T08:30:28.857Z"
   },
   {
    "duration": 25,
    "start_time": "2022-12-05T08:30:28.946Z"
   },
   {
    "duration": 23,
    "start_time": "2022-12-05T08:30:28.980Z"
   },
   {
    "duration": 23,
    "start_time": "2022-12-05T08:30:29.005Z"
   },
   {
    "duration": 25,
    "start_time": "2022-12-05T08:30:29.030Z"
   },
   {
    "duration": 29,
    "start_time": "2022-12-05T08:30:29.059Z"
   },
   {
    "duration": 13,
    "start_time": "2022-12-05T08:30:29.090Z"
   },
   {
    "duration": 14,
    "start_time": "2022-12-05T08:30:29.105Z"
   },
   {
    "duration": 20,
    "start_time": "2022-12-05T08:30:29.122Z"
   },
   {
    "duration": 45,
    "start_time": "2022-12-05T08:30:29.144Z"
   },
   {
    "duration": 11,
    "start_time": "2022-12-05T08:30:29.191Z"
   },
   {
    "duration": 23,
    "start_time": "2022-12-05T08:30:29.204Z"
   },
   {
    "duration": 143,
    "start_time": "2022-12-05T08:30:33.145Z"
   },
   {
    "duration": 1174,
    "start_time": "2022-12-05T08:31:01.341Z"
   },
   {
    "duration": 19,
    "start_time": "2022-12-05T08:31:17.812Z"
   },
   {
    "duration": 15,
    "start_time": "2022-12-05T08:31:48.836Z"
   },
   {
    "duration": 10,
    "start_time": "2022-12-05T08:32:12.779Z"
   },
   {
    "duration": 12,
    "start_time": "2022-12-05T08:32:28.876Z"
   },
   {
    "duration": 13,
    "start_time": "2022-12-05T08:32:35.882Z"
   },
   {
    "duration": 11,
    "start_time": "2022-12-05T08:32:46.857Z"
   },
   {
    "duration": 13,
    "start_time": "2022-12-05T08:33:36.599Z"
   },
   {
    "duration": 16,
    "start_time": "2022-12-05T08:34:10.940Z"
   },
   {
    "duration": 13,
    "start_time": "2022-12-05T08:34:25.790Z"
   },
   {
    "duration": 17,
    "start_time": "2022-12-05T08:34:49.731Z"
   },
   {
    "duration": 9,
    "start_time": "2022-12-05T08:34:56.011Z"
   },
   {
    "duration": 174,
    "start_time": "2022-12-05T08:34:57.203Z"
   },
   {
    "duration": 140,
    "start_time": "2022-12-05T08:35:08.152Z"
   },
   {
    "duration": 19,
    "start_time": "2022-12-05T08:35:44.940Z"
   },
   {
    "duration": 13,
    "start_time": "2022-12-05T08:36:18.676Z"
   },
   {
    "duration": 16,
    "start_time": "2022-12-05T08:36:22.515Z"
   },
   {
    "duration": 214,
    "start_time": "2022-12-05T08:40:45.366Z"
   },
   {
    "duration": 106,
    "start_time": "2022-12-05T08:41:24.728Z"
   },
   {
    "duration": 216,
    "start_time": "2022-12-05T08:41:29.110Z"
   },
   {
    "duration": 217,
    "start_time": "2022-12-05T08:42:06.773Z"
   },
   {
    "duration": 137,
    "start_time": "2022-12-05T08:44:37.094Z"
   },
   {
    "duration": 9,
    "start_time": "2022-12-05T08:45:33.769Z"
   },
   {
    "duration": 17,
    "start_time": "2022-12-05T08:45:43.213Z"
   },
   {
    "duration": 336,
    "start_time": "2022-12-05T08:47:30.305Z"
   },
   {
    "duration": 230,
    "start_time": "2022-12-05T08:48:16.313Z"
   },
   {
    "duration": 196,
    "start_time": "2022-12-05T08:48:46.598Z"
   },
   {
    "duration": 229,
    "start_time": "2022-12-05T08:49:09.617Z"
   },
   {
    "duration": 301,
    "start_time": "2022-12-05T08:49:19.230Z"
   },
   {
    "duration": 280,
    "start_time": "2022-12-05T08:51:13.070Z"
   },
   {
    "duration": 310,
    "start_time": "2022-12-05T08:53:09.208Z"
   },
   {
    "duration": 285,
    "start_time": "2022-12-05T08:54:14.100Z"
   },
   {
    "duration": 394,
    "start_time": "2022-12-05T08:54:17.330Z"
   },
   {
    "duration": 332,
    "start_time": "2022-12-05T08:55:06.323Z"
   },
   {
    "duration": 287,
    "start_time": "2022-12-05T09:04:09.191Z"
   },
   {
    "duration": 391,
    "start_time": "2022-12-05T09:04:46.449Z"
   },
   {
    "duration": 379,
    "start_time": "2022-12-05T09:05:53.228Z"
   },
   {
    "duration": 19,
    "start_time": "2022-12-05T09:07:17.788Z"
   },
   {
    "duration": 12,
    "start_time": "2022-12-05T09:07:36.800Z"
   },
   {
    "duration": 20,
    "start_time": "2022-12-05T09:08:02.073Z"
   },
   {
    "duration": 177,
    "start_time": "2022-12-05T09:08:11.084Z"
   },
   {
    "duration": 213,
    "start_time": "2022-12-05T09:09:02.249Z"
   },
   {
    "duration": 13,
    "start_time": "2022-12-05T09:09:50.934Z"
   },
   {
    "duration": 7,
    "start_time": "2022-12-05T09:09:57.119Z"
   },
   {
    "duration": 202,
    "start_time": "2022-12-05T09:10:46.279Z"
   },
   {
    "duration": 551,
    "start_time": "2022-12-05T09:11:17.023Z"
   },
   {
    "duration": 184,
    "start_time": "2022-12-05T09:11:27.622Z"
   },
   {
    "duration": 222,
    "start_time": "2022-12-05T09:11:52.305Z"
   },
   {
    "duration": 164,
    "start_time": "2022-12-05T09:12:35.764Z"
   },
   {
    "duration": 229,
    "start_time": "2022-12-05T09:12:49.753Z"
   },
   {
    "duration": 101,
    "start_time": "2022-12-05T09:12:55.910Z"
   },
   {
    "duration": 228,
    "start_time": "2022-12-05T09:13:03.926Z"
   },
   {
    "duration": 243,
    "start_time": "2022-12-05T09:13:19.027Z"
   },
   {
    "duration": 16,
    "start_time": "2022-12-05T09:14:57.276Z"
   },
   {
    "duration": 159,
    "start_time": "2022-12-05T09:15:04.369Z"
   },
   {
    "duration": 4,
    "start_time": "2022-12-05T09:16:35.020Z"
   },
   {
    "duration": 6,
    "start_time": "2022-12-05T09:17:21.909Z"
   },
   {
    "duration": 13,
    "start_time": "2022-12-05T09:17:33.368Z"
   },
   {
    "duration": 15,
    "start_time": "2022-12-05T09:22:03.736Z"
   },
   {
    "duration": 59,
    "start_time": "2022-12-05T09:22:38.243Z"
   },
   {
    "duration": 95,
    "start_time": "2022-12-05T09:24:25.851Z"
   },
   {
    "duration": 23,
    "start_time": "2022-12-05T09:24:49.839Z"
   },
   {
    "duration": 4,
    "start_time": "2022-12-05T09:27:06.669Z"
   },
   {
    "duration": 11,
    "start_time": "2022-12-05T09:27:22.230Z"
   },
   {
    "duration": 37,
    "start_time": "2022-12-05T09:27:39.680Z"
   },
   {
    "duration": 20,
    "start_time": "2022-12-05T09:28:18.469Z"
   },
   {
    "duration": 47,
    "start_time": "2022-12-06T08:32:11.492Z"
   },
   {
    "duration": 7,
    "start_time": "2022-12-06T08:33:05.460Z"
   },
   {
    "duration": 6,
    "start_time": "2022-12-06T08:33:23.130Z"
   },
   {
    "duration": 1391,
    "start_time": "2022-12-06T08:33:37.437Z"
   },
   {
    "duration": 212,
    "start_time": "2022-12-06T08:33:38.830Z"
   },
   {
    "duration": 11,
    "start_time": "2022-12-06T08:33:39.044Z"
   },
   {
    "duration": 33,
    "start_time": "2022-12-06T08:33:39.057Z"
   },
   {
    "duration": 45,
    "start_time": "2022-12-06T08:33:39.093Z"
   },
   {
    "duration": 25,
    "start_time": "2022-12-06T08:33:39.140Z"
   },
   {
    "duration": 32,
    "start_time": "2022-12-06T08:33:39.167Z"
   },
   {
    "duration": 23,
    "start_time": "2022-12-06T08:33:39.201Z"
   },
   {
    "duration": 40,
    "start_time": "2022-12-06T08:33:39.225Z"
   },
   {
    "duration": 29,
    "start_time": "2022-12-06T08:33:39.267Z"
   },
   {
    "duration": 22,
    "start_time": "2022-12-06T08:33:39.298Z"
   },
   {
    "duration": 27,
    "start_time": "2022-12-06T08:33:39.322Z"
   },
   {
    "duration": 13,
    "start_time": "2022-12-06T08:34:10.154Z"
   },
   {
    "duration": 12,
    "start_time": "2022-12-06T08:34:26.547Z"
   },
   {
    "duration": 12,
    "start_time": "2022-12-06T08:49:20.950Z"
   },
   {
    "duration": 9,
    "start_time": "2022-12-06T08:49:27.798Z"
   },
   {
    "duration": 213,
    "start_time": "2022-12-06T08:49:32.606Z"
   },
   {
    "duration": 127,
    "start_time": "2022-12-06T08:49:35.615Z"
   },
   {
    "duration": 13,
    "start_time": "2022-12-06T08:49:39.617Z"
   },
   {
    "duration": 115,
    "start_time": "2022-12-06T08:55:59.845Z"
   },
   {
    "duration": 10,
    "start_time": "2022-12-06T08:56:07.265Z"
   },
   {
    "duration": 172,
    "start_time": "2022-12-06T08:56:08.316Z"
   },
   {
    "duration": 131,
    "start_time": "2022-12-06T08:56:09.428Z"
   },
   {
    "duration": 13,
    "start_time": "2022-12-06T08:56:10.455Z"
   },
   {
    "duration": 11,
    "start_time": "2022-12-06T08:56:14.172Z"
   },
   {
    "duration": 1056,
    "start_time": "2022-12-06T08:56:40.245Z"
   },
   {
    "duration": 75,
    "start_time": "2022-12-06T08:56:41.303Z"
   },
   {
    "duration": 10,
    "start_time": "2022-12-06T08:56:41.380Z"
   },
   {
    "duration": 10,
    "start_time": "2022-12-06T08:56:41.391Z"
   },
   {
    "duration": 24,
    "start_time": "2022-12-06T08:56:41.403Z"
   },
   {
    "duration": 30,
    "start_time": "2022-12-06T08:56:41.429Z"
   },
   {
    "duration": 21,
    "start_time": "2022-12-06T08:56:41.461Z"
   },
   {
    "duration": 20,
    "start_time": "2022-12-06T08:56:41.484Z"
   },
   {
    "duration": 12,
    "start_time": "2022-12-06T08:56:41.506Z"
   },
   {
    "duration": 19,
    "start_time": "2022-12-06T08:56:41.519Z"
   },
   {
    "duration": 19,
    "start_time": "2022-12-06T08:56:41.540Z"
   },
   {
    "duration": 13,
    "start_time": "2022-12-06T08:56:41.561Z"
   },
   {
    "duration": 23,
    "start_time": "2022-12-06T08:56:41.575Z"
   },
   {
    "duration": 19,
    "start_time": "2022-12-06T08:56:41.601Z"
   },
   {
    "duration": 24,
    "start_time": "2022-12-06T08:56:41.622Z"
   },
   {
    "duration": 15,
    "start_time": "2022-12-06T08:56:41.648Z"
   },
   {
    "duration": 170,
    "start_time": "2022-12-06T08:56:41.665Z"
   },
   {
    "duration": 135,
    "start_time": "2022-12-06T08:56:41.837Z"
   },
   {
    "duration": 13,
    "start_time": "2022-12-06T08:56:47.158Z"
   },
   {
    "duration": 104,
    "start_time": "2022-12-06T08:56:50.117Z"
   },
   {
    "duration": 14,
    "start_time": "2022-12-06T08:57:15.441Z"
   },
   {
    "duration": 281,
    "start_time": "2022-12-06T08:57:20.127Z"
   },
   {
    "duration": 206,
    "start_time": "2022-12-06T08:57:25.578Z"
   },
   {
    "duration": 300,
    "start_time": "2022-12-06T09:00:33.699Z"
   },
   {
    "duration": 213,
    "start_time": "2022-12-06T09:06:09.434Z"
   },
   {
    "duration": 322,
    "start_time": "2022-12-06T09:08:09.636Z"
   },
   {
    "duration": 13,
    "start_time": "2022-12-06T09:12:43.326Z"
   },
   {
    "duration": 6,
    "start_time": "2022-12-06T09:14:48.218Z"
   },
   {
    "duration": 6,
    "start_time": "2022-12-06T09:14:56.279Z"
   },
   {
    "duration": 145,
    "start_time": "2022-12-06T09:17:31.063Z"
   },
   {
    "duration": 144,
    "start_time": "2022-12-06T09:18:03.285Z"
   },
   {
    "duration": 6,
    "start_time": "2022-12-06T09:20:30.640Z"
   },
   {
    "duration": 11,
    "start_time": "2022-12-06T09:22:40.636Z"
   },
   {
    "duration": 43,
    "start_time": "2022-12-06T09:22:45.000Z"
   },
   {
    "duration": 48,
    "start_time": "2022-12-06T09:23:09.646Z"
   },
   {
    "duration": 12,
    "start_time": "2022-12-06T09:29:30.300Z"
   },
   {
    "duration": 11,
    "start_time": "2022-12-06T09:32:01.606Z"
   },
   {
    "duration": 12,
    "start_time": "2022-12-06T09:32:57.255Z"
   },
   {
    "duration": 39,
    "start_time": "2022-12-06T09:35:55.725Z"
   },
   {
    "duration": 1108,
    "start_time": "2022-12-06T09:36:10.981Z"
   },
   {
    "duration": 76,
    "start_time": "2022-12-06T09:36:12.092Z"
   },
   {
    "duration": 13,
    "start_time": "2022-12-06T09:36:12.169Z"
   },
   {
    "duration": 12,
    "start_time": "2022-12-06T09:36:12.184Z"
   },
   {
    "duration": 17,
    "start_time": "2022-12-06T09:36:12.197Z"
   },
   {
    "duration": 17,
    "start_time": "2022-12-06T09:36:12.215Z"
   },
   {
    "duration": 12,
    "start_time": "2022-12-06T09:36:12.234Z"
   },
   {
    "duration": 15,
    "start_time": "2022-12-06T09:36:12.248Z"
   },
   {
    "duration": 13,
    "start_time": "2022-12-06T09:36:12.264Z"
   },
   {
    "duration": 14,
    "start_time": "2022-12-06T09:36:12.279Z"
   },
   {
    "duration": 9,
    "start_time": "2022-12-06T09:36:12.294Z"
   },
   {
    "duration": 11,
    "start_time": "2022-12-06T09:36:12.305Z"
   },
   {
    "duration": 19,
    "start_time": "2022-12-06T09:36:12.318Z"
   },
   {
    "duration": 26,
    "start_time": "2022-12-06T09:36:12.338Z"
   },
   {
    "duration": 30,
    "start_time": "2022-12-06T09:36:12.366Z"
   },
   {
    "duration": 20,
    "start_time": "2022-12-06T09:36:12.399Z"
   },
   {
    "duration": 218,
    "start_time": "2022-12-06T09:36:12.423Z"
   },
   {
    "duration": 125,
    "start_time": "2022-12-06T09:36:12.644Z"
   },
   {
    "duration": 14,
    "start_time": "2022-12-06T09:36:12.771Z"
   },
   {
    "duration": 291,
    "start_time": "2022-12-06T09:36:12.787Z"
   },
   {
    "duration": 206,
    "start_time": "2022-12-06T09:36:13.080Z"
   },
   {
    "duration": 293,
    "start_time": "2022-12-06T09:36:13.288Z"
   },
   {
    "duration": 216,
    "start_time": "2022-12-06T09:36:13.583Z"
   },
   {
    "duration": 307,
    "start_time": "2022-12-06T09:36:13.801Z"
   },
   {
    "duration": 12,
    "start_time": "2022-12-06T09:36:14.110Z"
   },
   {
    "duration": 130,
    "start_time": "2022-12-06T09:36:14.136Z"
   },
   {
    "duration": 6,
    "start_time": "2022-12-06T09:36:14.268Z"
   },
   {
    "duration": 161,
    "start_time": "2022-12-06T09:36:14.277Z"
   },
   {
    "duration": 5,
    "start_time": "2022-12-06T09:36:14.440Z"
   },
   {
    "duration": 102,
    "start_time": "2022-12-06T09:36:31.897Z"
   },
   {
    "duration": 12,
    "start_time": "2022-12-06T09:36:57.268Z"
   },
   {
    "duration": 41,
    "start_time": "2022-12-06T09:36:58.488Z"
   },
   {
    "duration": 40,
    "start_time": "2022-12-06T09:37:38.919Z"
   },
   {
    "duration": 3,
    "start_time": "2022-12-06T09:41:31.974Z"
   },
   {
    "duration": 9,
    "start_time": "2022-12-06T09:41:35.364Z"
   },
   {
    "duration": 32,
    "start_time": "2022-12-06T09:42:02.716Z"
   },
   {
    "duration": 1249,
    "start_time": "2022-12-06T09:42:13.629Z"
   },
   {
    "duration": 78,
    "start_time": "2022-12-06T09:42:14.880Z"
   },
   {
    "duration": 13,
    "start_time": "2022-12-06T09:42:14.960Z"
   },
   {
    "duration": 12,
    "start_time": "2022-12-06T09:42:14.976Z"
   },
   {
    "duration": 20,
    "start_time": "2022-12-06T09:42:14.990Z"
   },
   {
    "duration": 32,
    "start_time": "2022-12-06T09:42:15.012Z"
   },
   {
    "duration": 25,
    "start_time": "2022-12-06T09:42:15.046Z"
   },
   {
    "duration": 26,
    "start_time": "2022-12-06T09:42:15.073Z"
   },
   {
    "duration": 21,
    "start_time": "2022-12-06T09:42:15.101Z"
   },
   {
    "duration": 14,
    "start_time": "2022-12-06T09:42:15.125Z"
   },
   {
    "duration": 6,
    "start_time": "2022-12-06T09:42:15.141Z"
   },
   {
    "duration": 8,
    "start_time": "2022-12-06T09:42:15.148Z"
   },
   {
    "duration": 14,
    "start_time": "2022-12-06T09:42:15.158Z"
   },
   {
    "duration": 10,
    "start_time": "2022-12-06T09:42:15.173Z"
   },
   {
    "duration": 16,
    "start_time": "2022-12-06T09:42:15.184Z"
   },
   {
    "duration": 13,
    "start_time": "2022-12-06T09:42:15.201Z"
   },
   {
    "duration": 188,
    "start_time": "2022-12-06T09:42:15.216Z"
   },
   {
    "duration": 133,
    "start_time": "2022-12-06T09:42:15.406Z"
   },
   {
    "duration": 14,
    "start_time": "2022-12-06T09:42:15.541Z"
   },
   {
    "duration": 314,
    "start_time": "2022-12-06T09:42:15.557Z"
   },
   {
    "duration": 216,
    "start_time": "2022-12-06T09:42:15.873Z"
   },
   {
    "duration": 298,
    "start_time": "2022-12-06T09:42:16.091Z"
   },
   {
    "duration": 228,
    "start_time": "2022-12-06T09:42:16.391Z"
   },
   {
    "duration": 340,
    "start_time": "2022-12-06T09:42:16.621Z"
   },
   {
    "duration": 14,
    "start_time": "2022-12-06T09:42:16.962Z"
   },
   {
    "duration": 142,
    "start_time": "2022-12-06T09:42:16.978Z"
   },
   {
    "duration": 15,
    "start_time": "2022-12-06T09:42:17.122Z"
   },
   {
    "duration": 153,
    "start_time": "2022-12-06T09:42:17.141Z"
   },
   {
    "duration": 6,
    "start_time": "2022-12-06T09:42:17.296Z"
   },
   {
    "duration": 23,
    "start_time": "2022-12-06T09:42:17.304Z"
   },
   {
    "duration": 42,
    "start_time": "2022-12-06T09:42:17.334Z"
   },
   {
    "duration": 12,
    "start_time": "2022-12-06T09:42:17.378Z"
   },
   {
    "duration": 4,
    "start_time": "2022-12-06T09:42:22.497Z"
   },
   {
    "duration": 108,
    "start_time": "2022-12-06T09:42:23.586Z"
   },
   {
    "duration": 10,
    "start_time": "2022-12-06T09:42:45.785Z"
   },
   {
    "duration": 28,
    "start_time": "2022-12-06T09:42:47.762Z"
   },
   {
    "duration": 56,
    "start_time": "2022-12-06T09:44:36.731Z"
   },
   {
    "duration": 14,
    "start_time": "2022-12-06T09:44:42.462Z"
   },
   {
    "duration": 26,
    "start_time": "2022-12-06T09:44:54.403Z"
   },
   {
    "duration": 15,
    "start_time": "2022-12-06T09:45:38.165Z"
   },
   {
    "duration": 17,
    "start_time": "2022-12-06T09:50:29.205Z"
   },
   {
    "duration": 48,
    "start_time": "2022-12-06T10:13:44.162Z"
   },
   {
    "duration": 31,
    "start_time": "2022-12-06T10:13:48.885Z"
   },
   {
    "duration": 16,
    "start_time": "2022-12-06T10:14:51.580Z"
   },
   {
    "duration": 15,
    "start_time": "2022-12-06T10:15:59.354Z"
   },
   {
    "duration": 20,
    "start_time": "2022-12-06T10:16:52.272Z"
   },
   {
    "duration": 18,
    "start_time": "2022-12-06T10:17:43.074Z"
   },
   {
    "duration": 20,
    "start_time": "2022-12-06T10:18:50.270Z"
   },
   {
    "duration": 1301,
    "start_time": "2022-12-06T10:20:05.931Z"
   },
   {
    "duration": 78,
    "start_time": "2022-12-06T10:20:07.235Z"
   },
   {
    "duration": 12,
    "start_time": "2022-12-06T10:20:07.315Z"
   },
   {
    "duration": 27,
    "start_time": "2022-12-06T10:20:07.329Z"
   },
   {
    "duration": 26,
    "start_time": "2022-12-06T10:20:07.358Z"
   },
   {
    "duration": 22,
    "start_time": "2022-12-06T10:20:07.387Z"
   },
   {
    "duration": 23,
    "start_time": "2022-12-06T10:20:07.411Z"
   },
   {
    "duration": 20,
    "start_time": "2022-12-06T10:20:07.436Z"
   },
   {
    "duration": 25,
    "start_time": "2022-12-06T10:20:07.458Z"
   },
   {
    "duration": 29,
    "start_time": "2022-12-06T10:20:07.485Z"
   },
   {
    "duration": 24,
    "start_time": "2022-12-06T10:20:07.516Z"
   },
   {
    "duration": 28,
    "start_time": "2022-12-06T10:20:07.542Z"
   },
   {
    "duration": 25,
    "start_time": "2022-12-06T10:20:07.572Z"
   },
   {
    "duration": 31,
    "start_time": "2022-12-06T10:20:07.601Z"
   },
   {
    "duration": 29,
    "start_time": "2022-12-06T10:20:07.635Z"
   },
   {
    "duration": 25,
    "start_time": "2022-12-06T10:20:07.666Z"
   },
   {
    "duration": 181,
    "start_time": "2022-12-06T10:20:07.693Z"
   },
   {
    "duration": 142,
    "start_time": "2022-12-06T10:20:07.877Z"
   },
   {
    "duration": 24,
    "start_time": "2022-12-06T10:20:08.021Z"
   },
   {
    "duration": 310,
    "start_time": "2022-12-06T10:20:08.047Z"
   },
   {
    "duration": 216,
    "start_time": "2022-12-06T10:20:08.360Z"
   },
   {
    "duration": 288,
    "start_time": "2022-12-06T10:20:08.578Z"
   },
   {
    "duration": 224,
    "start_time": "2022-12-06T10:20:08.867Z"
   },
   {
    "duration": 298,
    "start_time": "2022-12-06T10:20:09.093Z"
   },
   {
    "duration": 12,
    "start_time": "2022-12-06T10:20:09.393Z"
   },
   {
    "duration": 143,
    "start_time": "2022-12-06T10:20:09.407Z"
   },
   {
    "duration": 5,
    "start_time": "2022-12-06T10:20:09.553Z"
   },
   {
    "duration": 175,
    "start_time": "2022-12-06T10:20:09.560Z"
   },
   {
    "duration": 6,
    "start_time": "2022-12-06T10:20:09.737Z"
   },
   {
    "duration": 29,
    "start_time": "2022-12-06T10:20:09.745Z"
   },
   {
    "duration": 95,
    "start_time": "2022-12-06T10:20:09.776Z"
   },
   {
    "duration": 26,
    "start_time": "2022-12-06T10:20:09.873Z"
   },
   {
    "duration": 89,
    "start_time": "2022-12-06T10:20:09.901Z"
   },
   {
    "duration": 40,
    "start_time": "2022-12-06T10:20:09.992Z"
   },
   {
    "duration": 71,
    "start_time": "2022-12-06T10:20:10.035Z"
   },
   {
    "duration": 32,
    "start_time": "2022-12-06T10:20:10.108Z"
   },
   {
    "duration": 1082,
    "start_time": "2022-12-06T11:49:30.336Z"
   },
   {
    "duration": 91,
    "start_time": "2022-12-06T11:49:31.420Z"
   },
   {
    "duration": 12,
    "start_time": "2022-12-06T11:49:31.512Z"
   },
   {
    "duration": 12,
    "start_time": "2022-12-06T11:49:31.526Z"
   },
   {
    "duration": 17,
    "start_time": "2022-12-06T11:49:31.540Z"
   },
   {
    "duration": 24,
    "start_time": "2022-12-06T11:49:31.558Z"
   },
   {
    "duration": 17,
    "start_time": "2022-12-06T11:49:31.588Z"
   },
   {
    "duration": 10,
    "start_time": "2022-12-06T11:49:31.607Z"
   },
   {
    "duration": 15,
    "start_time": "2022-12-06T11:49:31.618Z"
   },
   {
    "duration": 12,
    "start_time": "2022-12-06T11:49:31.636Z"
   },
   {
    "duration": 8,
    "start_time": "2022-12-06T11:49:31.650Z"
   },
   {
    "duration": 10,
    "start_time": "2022-12-06T11:49:31.660Z"
   },
   {
    "duration": 20,
    "start_time": "2022-12-06T11:49:31.672Z"
   },
   {
    "duration": 18,
    "start_time": "2022-12-06T11:49:31.693Z"
   },
   {
    "duration": 9,
    "start_time": "2022-12-06T11:49:31.712Z"
   },
   {
    "duration": 13,
    "start_time": "2022-12-06T11:49:31.722Z"
   },
   {
    "duration": 172,
    "start_time": "2022-12-06T11:49:31.736Z"
   },
   {
    "duration": 118,
    "start_time": "2022-12-06T11:49:31.910Z"
   },
   {
    "duration": 12,
    "start_time": "2022-12-06T11:49:32.030Z"
   },
   {
    "duration": 300,
    "start_time": "2022-12-06T11:49:32.043Z"
   },
   {
    "duration": 197,
    "start_time": "2022-12-06T11:49:32.345Z"
   },
   {
    "duration": 349,
    "start_time": "2022-12-06T11:49:32.544Z"
   },
   {
    "duration": 228,
    "start_time": "2022-12-06T11:49:32.900Z"
   },
   {
    "duration": 348,
    "start_time": "2022-12-06T11:49:33.130Z"
   },
   {
    "duration": 11,
    "start_time": "2022-12-06T11:49:33.480Z"
   },
   {
    "duration": 142,
    "start_time": "2022-12-06T11:49:33.492Z"
   },
   {
    "duration": 5,
    "start_time": "2022-12-06T11:49:33.635Z"
   },
   {
    "duration": 169,
    "start_time": "2022-12-06T11:49:33.643Z"
   },
   {
    "duration": 4,
    "start_time": "2022-12-06T11:49:33.814Z"
   },
   {
    "duration": 41,
    "start_time": "2022-12-06T11:49:33.820Z"
   },
   {
    "duration": 78,
    "start_time": "2022-12-06T11:49:33.862Z"
   },
   {
    "duration": 13,
    "start_time": "2022-12-06T11:49:33.942Z"
   },
   {
    "duration": 31,
    "start_time": "2022-12-06T11:49:33.957Z"
   },
   {
    "duration": 36,
    "start_time": "2022-12-06T11:49:33.993Z"
   },
   {
    "duration": 74,
    "start_time": "2022-12-06T11:49:34.031Z"
   },
   {
    "duration": 20,
    "start_time": "2022-12-06T11:49:34.110Z"
   },
   {
    "duration": 50,
    "start_time": "2022-12-07T08:48:06.605Z"
   },
   {
    "duration": 7,
    "start_time": "2022-12-07T08:48:11.606Z"
   },
   {
    "duration": 1266,
    "start_time": "2022-12-07T08:48:40.694Z"
   },
   {
    "duration": 215,
    "start_time": "2022-12-07T08:48:41.963Z"
   },
   {
    "duration": 11,
    "start_time": "2022-12-07T08:48:42.179Z"
   },
   {
    "duration": 18,
    "start_time": "2022-12-07T08:48:42.192Z"
   },
   {
    "duration": 26,
    "start_time": "2022-12-07T08:48:42.212Z"
   },
   {
    "duration": 25,
    "start_time": "2022-12-07T08:48:42.240Z"
   },
   {
    "duration": 10,
    "start_time": "2022-12-07T08:48:42.267Z"
   },
   {
    "duration": 7,
    "start_time": "2022-12-07T08:48:42.279Z"
   },
   {
    "duration": 9,
    "start_time": "2022-12-07T08:48:42.287Z"
   },
   {
    "duration": 10,
    "start_time": "2022-12-07T08:48:42.298Z"
   },
   {
    "duration": 7,
    "start_time": "2022-12-07T08:48:42.309Z"
   },
   {
    "duration": 5,
    "start_time": "2022-12-07T08:48:49.462Z"
   },
   {
    "duration": 10,
    "start_time": "2022-12-07T08:48:51.295Z"
   },
   {
    "duration": 70,
    "start_time": "2022-12-07T08:58:55.431Z"
   },
   {
    "duration": 12,
    "start_time": "2022-12-07T08:59:04.082Z"
   },
   {
    "duration": 10,
    "start_time": "2022-12-07T09:00:42.665Z"
   },
   {
    "duration": 14,
    "start_time": "2022-12-07T09:01:20.336Z"
   },
   {
    "duration": 106,
    "start_time": "2022-12-07T09:05:51.112Z"
   },
   {
    "duration": 5,
    "start_time": "2022-12-07T09:06:16.505Z"
   },
   {
    "duration": 10,
    "start_time": "2022-12-07T09:06:21.575Z"
   },
   {
    "duration": 12,
    "start_time": "2022-12-07T09:07:24.077Z"
   },
   {
    "duration": 8,
    "start_time": "2022-12-07T09:07:31.565Z"
   },
   {
    "duration": 2,
    "start_time": "2022-12-07T09:07:37.269Z"
   },
   {
    "duration": 3,
    "start_time": "2022-12-07T09:08:02.884Z"
   },
   {
    "duration": 4,
    "start_time": "2022-12-07T09:08:45.947Z"
   },
   {
    "duration": 264,
    "start_time": "2022-12-07T09:13:08.891Z"
   },
   {
    "duration": 4,
    "start_time": "2022-12-07T09:16:08.750Z"
   },
   {
    "duration": 19,
    "start_time": "2022-12-07T09:16:49.309Z"
   },
   {
    "duration": 13,
    "start_time": "2022-12-07T09:16:56.461Z"
   },
   {
    "duration": 13,
    "start_time": "2022-12-07T09:17:02.748Z"
   },
   {
    "duration": 11,
    "start_time": "2022-12-07T09:19:53.757Z"
   },
   {
    "duration": 9,
    "start_time": "2022-12-07T09:20:07.861Z"
   },
   {
    "duration": 6,
    "start_time": "2022-12-07T09:22:02.421Z"
   },
   {
    "duration": 7,
    "start_time": "2022-12-07T09:22:09.205Z"
   },
   {
    "duration": 6,
    "start_time": "2022-12-07T09:23:17.265Z"
   },
   {
    "duration": 10,
    "start_time": "2022-12-07T09:23:29.360Z"
   },
   {
    "duration": 5,
    "start_time": "2022-12-07T09:23:34.154Z"
   },
   {
    "duration": 16,
    "start_time": "2022-12-07T09:23:48.648Z"
   },
   {
    "duration": 8,
    "start_time": "2022-12-07T09:24:09.678Z"
   },
   {
    "duration": 7,
    "start_time": "2022-12-07T09:24:24.932Z"
   },
   {
    "duration": 8,
    "start_time": "2022-12-07T09:24:45.735Z"
   },
   {
    "duration": 6,
    "start_time": "2022-12-07T09:24:51.478Z"
   },
   {
    "duration": 5,
    "start_time": "2022-12-07T09:25:03.086Z"
   },
   {
    "duration": 10,
    "start_time": "2022-12-07T09:27:24.316Z"
   },
   {
    "duration": 12,
    "start_time": "2022-12-07T09:27:28.926Z"
   },
   {
    "duration": 7,
    "start_time": "2022-12-07T09:27:41.739Z"
   },
   {
    "duration": 9,
    "start_time": "2022-12-07T09:27:57.516Z"
   },
   {
    "duration": 19,
    "start_time": "2022-12-07T09:28:00.651Z"
   },
   {
    "duration": 16,
    "start_time": "2022-12-07T09:28:04.303Z"
   },
   {
    "duration": 23,
    "start_time": "2022-12-07T09:28:08.321Z"
   },
   {
    "duration": 23,
    "start_time": "2022-12-07T09:28:12.901Z"
   },
   {
    "duration": 5,
    "start_time": "2022-12-07T09:28:41.353Z"
   },
   {
    "duration": 5,
    "start_time": "2022-12-07T09:29:08.413Z"
   },
   {
    "duration": 12,
    "start_time": "2022-12-07T09:32:43.330Z"
   },
   {
    "duration": 10,
    "start_time": "2022-12-07T09:32:53.250Z"
   },
   {
    "duration": 18,
    "start_time": "2022-12-07T09:35:24.491Z"
   },
   {
    "duration": 8,
    "start_time": "2022-12-07T09:36:11.730Z"
   },
   {
    "duration": 9,
    "start_time": "2022-12-07T09:39:51.956Z"
   },
   {
    "duration": 7,
    "start_time": "2022-12-07T09:39:56.767Z"
   },
   {
    "duration": 11,
    "start_time": "2022-12-07T09:49:20.461Z"
   },
   {
    "duration": 1354,
    "start_time": "2022-12-07T09:54:17.336Z"
   },
   {
    "duration": 1095,
    "start_time": "2022-12-07T09:54:28.828Z"
   },
   {
    "duration": 79,
    "start_time": "2022-12-07T09:54:29.925Z"
   },
   {
    "duration": 16,
    "start_time": "2022-12-07T09:54:30.006Z"
   },
   {
    "duration": 27,
    "start_time": "2022-12-07T09:54:30.024Z"
   },
   {
    "duration": 19,
    "start_time": "2022-12-07T09:54:30.054Z"
   },
   {
    "duration": 18,
    "start_time": "2022-12-07T09:54:30.075Z"
   },
   {
    "duration": 24,
    "start_time": "2022-12-07T09:54:30.096Z"
   },
   {
    "duration": 39,
    "start_time": "2022-12-07T09:54:30.124Z"
   },
   {
    "duration": 22,
    "start_time": "2022-12-07T09:54:30.165Z"
   },
   {
    "duration": 35,
    "start_time": "2022-12-07T09:54:30.189Z"
   },
   {
    "duration": 45,
    "start_time": "2022-12-07T09:54:30.226Z"
   },
   {
    "duration": 25,
    "start_time": "2022-12-07T09:54:30.273Z"
   },
   {
    "duration": 42,
    "start_time": "2022-12-07T09:54:30.300Z"
   },
   {
    "duration": 32,
    "start_time": "2022-12-07T09:54:30.344Z"
   },
   {
    "duration": 167,
    "start_time": "2022-12-07T09:54:30.379Z"
   },
   {
    "duration": 0,
    "start_time": "2022-12-07T09:54:30.548Z"
   },
   {
    "duration": 0,
    "start_time": "2022-12-07T09:54:30.550Z"
   },
   {
    "duration": 0,
    "start_time": "2022-12-07T09:54:30.552Z"
   },
   {
    "duration": 0,
    "start_time": "2022-12-07T09:54:30.553Z"
   },
   {
    "duration": 0,
    "start_time": "2022-12-07T09:54:30.557Z"
   },
   {
    "duration": 0,
    "start_time": "2022-12-07T09:54:30.559Z"
   },
   {
    "duration": 0,
    "start_time": "2022-12-07T09:54:30.561Z"
   },
   {
    "duration": 0,
    "start_time": "2022-12-07T09:54:30.562Z"
   },
   {
    "duration": 0,
    "start_time": "2022-12-07T09:54:30.564Z"
   },
   {
    "duration": 0,
    "start_time": "2022-12-07T09:54:30.566Z"
   },
   {
    "duration": 0,
    "start_time": "2022-12-07T09:54:30.567Z"
   },
   {
    "duration": 1406,
    "start_time": "2022-12-07T09:54:53.938Z"
   },
   {
    "duration": 13,
    "start_time": "2022-12-07T09:55:07.991Z"
   },
   {
    "duration": 16,
    "start_time": "2022-12-07T09:56:53.723Z"
   },
   {
    "duration": 11,
    "start_time": "2022-12-07T09:57:11.066Z"
   },
   {
    "duration": 5,
    "start_time": "2022-12-07T09:57:13.400Z"
   },
   {
    "duration": 1269,
    "start_time": "2022-12-07T09:57:49.838Z"
   },
   {
    "duration": 82,
    "start_time": "2022-12-07T09:57:51.109Z"
   },
   {
    "duration": 12,
    "start_time": "2022-12-07T09:57:51.193Z"
   },
   {
    "duration": 17,
    "start_time": "2022-12-07T09:57:51.207Z"
   },
   {
    "duration": 23,
    "start_time": "2022-12-07T09:57:51.227Z"
   },
   {
    "duration": 14,
    "start_time": "2022-12-07T09:57:51.252Z"
   },
   {
    "duration": 12,
    "start_time": "2022-12-07T09:57:51.269Z"
   },
   {
    "duration": 8,
    "start_time": "2022-12-07T09:57:51.283Z"
   },
   {
    "duration": 11,
    "start_time": "2022-12-07T09:57:51.293Z"
   },
   {
    "duration": 14,
    "start_time": "2022-12-07T09:57:51.315Z"
   },
   {
    "duration": 12,
    "start_time": "2022-12-07T09:57:51.331Z"
   },
   {
    "duration": 9,
    "start_time": "2022-12-07T09:57:51.344Z"
   },
   {
    "duration": 16,
    "start_time": "2022-12-07T09:57:51.355Z"
   },
   {
    "duration": 11,
    "start_time": "2022-12-07T09:57:51.373Z"
   },
   {
    "duration": 15,
    "start_time": "2022-12-07T09:58:00.401Z"
   },
   {
    "duration": 9,
    "start_time": "2022-12-07T09:58:05.080Z"
   },
   {
    "duration": 5,
    "start_time": "2022-12-07T09:58:06.239Z"
   },
   {
    "duration": 6,
    "start_time": "2022-12-07T09:58:09.840Z"
   },
   {
    "duration": 5,
    "start_time": "2022-12-07T09:58:10.792Z"
   },
   {
    "duration": 12,
    "start_time": "2022-12-07T09:58:13.487Z"
   },
   {
    "duration": 8,
    "start_time": "2022-12-07T09:58:16.785Z"
   },
   {
    "duration": 11,
    "start_time": "2022-12-07T09:58:18.439Z"
   },
   {
    "duration": 9,
    "start_time": "2022-12-07T09:58:21.334Z"
   },
   {
    "duration": 21,
    "start_time": "2022-12-07T09:58:24.311Z"
   },
   {
    "duration": 20,
    "start_time": "2022-12-07T09:58:29.732Z"
   },
   {
    "duration": 13,
    "start_time": "2022-12-07T09:58:34.279Z"
   },
   {
    "duration": 10,
    "start_time": "2022-12-07T09:58:40.183Z"
   },
   {
    "duration": 235,
    "start_time": "2022-12-07T09:58:43.169Z"
   },
   {
    "duration": 17,
    "start_time": "2022-12-07T10:01:01.724Z"
   },
   {
    "duration": 185,
    "start_time": "2022-12-07T10:01:03.209Z"
   },
   {
    "duration": 172,
    "start_time": "2022-12-07T10:01:05.183Z"
   },
   {
    "duration": 19,
    "start_time": "2022-12-07T10:01:06.242Z"
   },
   {
    "duration": 103,
    "start_time": "2022-12-07T10:02:06.193Z"
   },
   {
    "duration": 8,
    "start_time": "2022-12-07T10:02:16.985Z"
   },
   {
    "duration": 290,
    "start_time": "2022-12-07T10:03:01.576Z"
   },
   {
    "duration": 219,
    "start_time": "2022-12-07T10:03:06.804Z"
   },
   {
    "duration": 295,
    "start_time": "2022-12-07T10:03:10.767Z"
   },
   {
    "duration": 224,
    "start_time": "2022-12-07T10:03:14.279Z"
   },
   {
    "duration": 301,
    "start_time": "2022-12-07T10:03:17.734Z"
   },
   {
    "duration": 13,
    "start_time": "2022-12-07T10:03:21.634Z"
   },
   {
    "duration": 168,
    "start_time": "2022-12-07T10:05:29.568Z"
   },
   {
    "duration": 143,
    "start_time": "2022-12-07T10:05:47.934Z"
   },
   {
    "duration": 13,
    "start_time": "2022-12-07T10:08:52.975Z"
   },
   {
    "duration": 267,
    "start_time": "2022-12-07T10:08:55.225Z"
   },
   {
    "duration": 6,
    "start_time": "2022-12-07T10:08:58.834Z"
   },
   {
    "duration": 198,
    "start_time": "2022-12-07T10:09:20.154Z"
   },
   {
    "duration": 173,
    "start_time": "2022-12-07T10:09:41.465Z"
   },
   {
    "duration": 175,
    "start_time": "2022-12-07T10:09:52.462Z"
   },
   {
    "duration": 185,
    "start_time": "2022-12-07T10:10:01.610Z"
   },
   {
    "duration": 8,
    "start_time": "2022-12-07T10:11:17.794Z"
   },
   {
    "duration": 6,
    "start_time": "2022-12-07T10:11:28.249Z"
   },
   {
    "duration": 4,
    "start_time": "2022-12-07T10:12:19.253Z"
   },
   {
    "duration": 12,
    "start_time": "2022-12-07T10:14:15.265Z"
   },
   {
    "duration": 39,
    "start_time": "2022-12-07T10:14:18.242Z"
   },
   {
    "duration": 16,
    "start_time": "2022-12-07T10:14:21.736Z"
   },
   {
    "duration": 3,
    "start_time": "2022-12-07T10:14:28.367Z"
   },
   {
    "duration": 20,
    "start_time": "2022-12-07T10:14:31.464Z"
   },
   {
    "duration": 1425,
    "start_time": "2022-12-07T10:15:34.622Z"
   },
   {
    "duration": 5,
    "start_time": "2022-12-07T10:16:20.196Z"
   },
   {
    "duration": 12,
    "start_time": "2022-12-07T10:16:23.008Z"
   },
   {
    "duration": 44,
    "start_time": "2022-12-07T10:17:03.912Z"
   },
   {
    "duration": 18,
    "start_time": "2022-12-07T10:17:07.655Z"
   },
   {
    "duration": 3,
    "start_time": "2022-12-07T10:18:36.071Z"
   },
   {
    "duration": 9,
    "start_time": "2022-12-07T10:18:43.375Z"
   },
   {
    "duration": 27,
    "start_time": "2022-12-07T10:18:46.067Z"
   },
   {
    "duration": 15,
    "start_time": "2022-12-07T10:18:52.256Z"
   },
   {
    "duration": 16,
    "start_time": "2022-12-07T10:30:17.980Z"
   },
   {
    "duration": 4,
    "start_time": "2022-12-07T10:32:59.180Z"
   },
   {
    "duration": 9,
    "start_time": "2022-12-07T10:33:04.445Z"
   },
   {
    "duration": 42,
    "start_time": "2022-12-07T10:33:33.111Z"
   },
   {
    "duration": 144,
    "start_time": "2023-07-19T12:54:25.854Z"
   },
   {
    "duration": 126,
    "start_time": "2023-07-19T12:54:42.284Z"
   },
   {
    "duration": 43,
    "start_time": "2023-07-19T12:56:00.592Z"
   }
  ],
  "kernelspec": {
   "display_name": "Python 3 (ipykernel)",
   "language": "python",
   "name": "python3"
  },
  "language_info": {
   "codemirror_mode": {
    "name": "ipython",
    "version": 3
   },
   "file_extension": ".py",
   "mimetype": "text/x-python",
   "name": "python",
   "nbconvert_exporter": "python",
   "pygments_lexer": "ipython3",
   "version": "3.10.9"
  },
  "toc": {
   "base_numbering": 1,
   "nav_menu": {},
   "number_sections": true,
   "sideBar": true,
   "skip_h1_title": true,
   "title_cell": "Table of Contents",
   "title_sidebar": "Contents",
   "toc_cell": false,
   "toc_position": {},
   "toc_section_display": true,
   "toc_window_display": true
  }
 },
 "nbformat": 4,
 "nbformat_minor": 2
}
